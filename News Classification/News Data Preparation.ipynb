{
 "cells": [
  {
   "cell_type": "markdown",
   "id": "7969c7b5-b0d6-4c07-a969-6d9cbd1f107c",
   "metadata": {},
   "source": [
    "### Convert Text file to CSV files"
   ]
  },
  {
   "cell_type": "code",
   "execution_count": 57,
   "id": "24cb0ec2-8f71-466a-8220-4894b99a8407",
   "metadata": {},
   "outputs": [],
   "source": [
    "import os\n",
    "# Function to read text from a file\n",
    "def read_file(file_path, encoding='utf-8'):\n",
    "    with open(file_path, 'r', encoding=encoding) as file:\n",
    "        return file.read()\n",
    "\n",
    "# Function to read text from a file\n",
    "def read_file(file_path):\n",
    "    with open(file_path, 'r', encoding='iso-8859-1') as file:\n",
    "        return file.read()\n",
    "\n",
    "# Function to append text to a file\n",
    "def append_to_file(file_path, text):\n",
    "    with open(file_path, 'a', encoding='utf-8') as file:\n",
    "        file.write(text)"
   ]
  },
  {
   "cell_type": "code",
   "execution_count": 58,
   "id": "76484e17-f423-45cd-b5c2-e9a122f6e67d",
   "metadata": {},
   "outputs": [],
   "source": [
    "# Directory containing the text files\n",
    "directory = 'C:/Users/user/Desktop/News Data Preparation/nepali_news_dataset_20_categories_small/Agriculture'\n",
    "\n",
    "# Output file where the text will be appended\n",
    "output_file = 'C:/Users/user/Desktop/News Data Preparation/CSV files/Agriculture.csv'"
   ]
  },
  {
   "cell_type": "code",
   "execution_count": 59,
   "id": "6dad9064-b11b-4852-b6a4-14e7fe5f95a1",
   "metadata": {},
   "outputs": [
    {
     "name": "stdout",
     "output_type": "stream",
     "text": [
      "Text files have been copied and appended into C:/Users/user/Desktop/News Data Preparation/CSV files/Agriculture.csv\n"
     ]
    }
   ],
   "source": [
    "# Loop through each file in the directory\n",
    "for filename in os.listdir(directory):\n",
    "    if filename.endswith('.txt'):  # Assuming all files have .txt extension\n",
    "        file_path = os.path.join(directory, filename)\n",
    "        file_text = read_file(file_path)\n",
    "        append_to_file(output_file, file_text)\n",
    "\n",
    "print(\"Text files have been copied and appended into\", output_file)"
   ]
  },
  {
   "cell_type": "code",
   "execution_count": 60,
   "id": "d76d9b96-fad7-4406-887d-7e8d5680c5b2",
   "metadata": {},
   "outputs": [],
   "source": [
    "# Directory containing the text files\n",
    "directory = 'C:/Users/user/Desktop/News Data Preparation/nepali_news_dataset_20_categories_small/Automobiles'\n",
    "\n",
    "# Output file where the text will be appended\n",
    "output_file = 'C:/Users/user/Desktop/News Data Preparation/CSV files/Automobiles.csv'"
   ]
  },
  {
   "cell_type": "code",
   "execution_count": 61,
   "id": "d24a6a42-52b5-4991-acca-3a57619d3693",
   "metadata": {},
   "outputs": [
    {
     "name": "stdout",
     "output_type": "stream",
     "text": [
      "Text files have been copied and appended into C:/Users/user/Desktop/News Data Preparation/CSV files/Automobiles.csv\n"
     ]
    }
   ],
   "source": [
    "# Loop through each file in the directory\n",
    "for filename in os.listdir(directory):\n",
    "    if filename.endswith('.txt'):  # Assuming all files have .txt extension\n",
    "        file_path = os.path.join(directory, filename)\n",
    "        file_text = read_file(file_path)\n",
    "        append_to_file(output_file, file_text)\n",
    "\n",
    "print(\"Text files have been copied and appended into\", output_file)"
   ]
  },
  {
   "cell_type": "code",
   "execution_count": 62,
   "id": "109b28dc-144f-4a47-8eb0-e9776fb7b859",
   "metadata": {},
   "outputs": [],
   "source": [
    "# Directory containing the text files\n",
    "directory = 'C:/Users/user/Desktop//News Data Preparation/nepali_news_dataset_20_categories_small/Bank'\n",
    "\n",
    "# Output file where the text will be appended\n",
    "output_file = 'C:/Users/user/Desktop/News Data Preparation/CSV files/Bank.csv'"
   ]
  },
  {
   "cell_type": "code",
   "execution_count": 63,
   "id": "c8f0a1be-c3ea-4034-bb50-57ff2a4d2473",
   "metadata": {},
   "outputs": [
    {
     "name": "stdout",
     "output_type": "stream",
     "text": [
      "Text files have been copied and appended into C:/Users/user/Desktop/News Data Preparation/CSV files/Bank.csv\n"
     ]
    }
   ],
   "source": [
    "# Loop through each file in the directory\n",
    "for filename in os.listdir(directory):\n",
    "    if filename.endswith('.txt'):  # Assuming all files have .txt extension\n",
    "        file_path = os.path.join(directory, filename)\n",
    "        file_text = read_file(file_path)\n",
    "        append_to_file(output_file, file_text)\n",
    "\n",
    "print(\"Text files have been copied and appended into\", output_file)"
   ]
  },
  {
   "cell_type": "code",
   "execution_count": 64,
   "id": "f1f13788-5756-4e32-b133-a5ba33374de2",
   "metadata": {},
   "outputs": [],
   "source": [
    "# Directory containing the text files\n",
    "directory = 'C:/Users/user/Desktop/News Data Preparation/nepali_news_dataset_20_categories_small/Blog'\n",
    "\n",
    "# Output file where the text will be appended\n",
    "output_file = 'C:/Users/user/Desktop/News Data Preparation/CSV files/Blog.csv'"
   ]
  },
  {
   "cell_type": "code",
   "execution_count": 65,
   "id": "20802430-9f71-4261-b6a4-7cd69378f132",
   "metadata": {},
   "outputs": [
    {
     "name": "stdout",
     "output_type": "stream",
     "text": [
      "Text files have been copied and appended into C:/Users/user/Desktop/News Data Preparation/CSV files/Blog.csv\n"
     ]
    }
   ],
   "source": [
    "# Loop through each file in the directory\n",
    "for filename in os.listdir(directory):\n",
    "    if filename.endswith('.txt'):  # Assuming all files have .txt extension\n",
    "        file_path = os.path.join(directory, filename)                     \n",
    "        append_to_file(output_file, file_text)\n",
    "\n",
    "print(\"Text files have been copied and appended into\", output_file)"
   ]
  },
  {
   "cell_type": "code",
   "execution_count": 66,
   "id": "9eadda67-8d95-4a93-b36f-769b4f1afb4e",
   "metadata": {},
   "outputs": [],
   "source": [
    "# Directory containing the text files\n",
    "directory = 'C:/Users/user/Desktop/News Data Preparation/nepali_news_dataset_20_categories_small/Business'\n",
    "\n",
    "# Output file where the text will be appended\n",
    "output_file = 'C:/Users/user/Desktop/News Data Preparation/CSV files/Business.csv'"
   ]
  },
  {
   "cell_type": "code",
   "execution_count": 67,
   "id": "5066afdc-d74e-4b50-bf16-33bb1983de0b",
   "metadata": {},
   "outputs": [
    {
     "name": "stdout",
     "output_type": "stream",
     "text": [
      "Text files have been copied and appended into C:/Users/user/Desktop/News Data Preparation/CSV files/Business.csv\n"
     ]
    }
   ],
   "source": [
    "# Loop through each file in the directory\n",
    "for filename in os.listdir(directory):\n",
    "    if filename.endswith('.txt'):  # Assuming all files have .txt extension\n",
    "        file_path = os.path.join(directory, filename)\n",
    "        file_text = read_file(file_path)\n",
    "        append_to_file(output_file, file_text)\n",
    "\n",
    "print(\"Text files have been copied and appended into\", output_file)"
   ]
  },
  {
   "cell_type": "code",
   "execution_count": 68,
   "id": "b2cecea2-c8e3-4bea-8873-9989fc7ba1e4",
   "metadata": {},
   "outputs": [],
   "source": [
    "# Directory containing the text files\n",
    "directory = 'C:/Users/user/Desktop/News Data Preparation/nepali_news_dataset_20_categories_small/Economy'\n",
    "\n",
    "# Output file where the text will be appended\n",
    "output_file = 'C:/Users/user/Desktop/News Data Preparation/CSV files/Economy.csv'"
   ]
  },
  {
   "cell_type": "code",
   "execution_count": 69,
   "id": "eebae0da-b627-47ec-9bd4-ae0fe95b1935",
   "metadata": {},
   "outputs": [
    {
     "name": "stdout",
     "output_type": "stream",
     "text": [
      "Text files have been copied and appended into C:/Users/user/Desktop/News Data Preparation/CSV files/Economy.csv\n"
     ]
    }
   ],
   "source": [
    "# Loop through each file in the directory\n",
    "for filename in os.listdir(directory):\n",
    "    if filename.endswith('.txt'):  # Assuming all files have .txt extension\n",
    "        file_path = os.path.join(directory, filename)\n",
    "        file_text = read_file(file_path)\n",
    "        append_to_file(output_file, file_text)\n",
    "\n",
    "print(\"Text files have been copied and appended into\", output_file)"
   ]
  },
  {
   "cell_type": "code",
   "execution_count": 70,
   "id": "14290288-d7a0-411b-ad7b-6e1a889e38e0",
   "metadata": {},
   "outputs": [],
   "source": [
    "# Directory containing the text files\n",
    "directory = 'C:/Users/user/Desktop/News Data Preparation/nepali_news_dataset_20_categories_small/Education'\n",
    "\n",
    "# Output file where the text will be appended\n",
    "output_file = 'C:/Users/user/Desktop/News Data Preparation/CSV files/Education.csv'"
   ]
  },
  {
   "cell_type": "code",
   "execution_count": 71,
   "id": "d644c2e5-d426-4c0f-ac63-104efb9461cd",
   "metadata": {},
   "outputs": [
    {
     "name": "stdout",
     "output_type": "stream",
     "text": [
      "Text files have been copied and appended into C:/Users/user/Desktop/News Data Preparation/CSV files/Education.csv\n"
     ]
    }
   ],
   "source": [
    "# Loop through each file in the directory\n",
    "for filename in os.listdir(directory):\n",
    "    if filename.endswith('.txt'):  # Assuming all files have .txt extension\n",
    "        file_path = os.path.join(directory, filename)\n",
    "        file_text = read_file(file_path)\n",
    "        append_to_file(output_file, file_text)\n",
    "\n",
    "print(\"Text files have been copied and appended into\", output_file)"
   ]
  },
  {
   "cell_type": "code",
   "execution_count": 72,
   "id": "265be678-e288-4c3c-bc06-7777e5d7bea8",
   "metadata": {},
   "outputs": [],
   "source": [
    "# Directory containing the text files\n",
    "directory = 'C:/Users/user/Desktop/News Data Preparation/nepali_news_dataset_20_categories_small/Employment'\n",
    "\n",
    "# Output file where the text will be appended\n",
    "output_file = 'C:/Users/user/Desktop/News Data Preparation/CSV files/Employment.csv'"
   ]
  },
  {
   "cell_type": "code",
   "execution_count": 73,
   "id": "2a3a2730-57f5-440a-8c03-6e435f2fb52a",
   "metadata": {},
   "outputs": [
    {
     "name": "stdout",
     "output_type": "stream",
     "text": [
      "Text files have been copied and appended into C:/Users/user/Desktop/News Data Preparation/CSV files/Employment.csv\n"
     ]
    }
   ],
   "source": [
    "# Loop through each file in the directory\n",
    "for filename in os.listdir(directory):\n",
    "    if filename.endswith('.txt'):  # Assuming all files have .txt extension\n",
    "        file_path = os.path.join(directory, filename)\n",
    "        file_text = read_file(file_path)\n",
    "        append_to_file(output_file, file_text)\n",
    "\n",
    "print(\"Text files have been copied and appended into\", output_file)"
   ]
  },
  {
   "cell_type": "code",
   "execution_count": 74,
   "id": "537f7cd2-53d8-4f3b-bcd0-19da8e42f812",
   "metadata": {},
   "outputs": [],
   "source": [
    "# Directory containing the text files\n",
    "directory = 'C:/Users/user/Desktop/News Data Preparation/nepali_news_dataset_20_categories_small/Entertainment'\n",
    "\n",
    "# Output file where the text will be appended\n",
    "output_file = 'C:/Users/user/Desktop/News Data Preparation/CSV files/Entertainment.csv'"
   ]
  },
  {
   "cell_type": "code",
   "execution_count": 75,
   "id": "1a7fa7b2-0b41-491b-ab8c-85e7ee650ad2",
   "metadata": {},
   "outputs": [
    {
     "name": "stdout",
     "output_type": "stream",
     "text": [
      "Text files have been copied and appended into C:/Users/user/Desktop/News Data Preparation/CSV files/Entertainment.csv\n"
     ]
    }
   ],
   "source": [
    "# Loop through each file in the directory\n",
    "for filename in os.listdir(directory):\n",
    "    if filename.endswith('.txt'):  # Assuming all files have .txt extension\n",
    "        file_path = os.path.join(directory, filename)\n",
    "        file_text = read_file(file_path)\n",
    "        append_to_file(output_file, file_text)\n",
    "\n",
    "print(\"Text files have been copied and appended into\", output_file)"
   ]
  },
  {
   "cell_type": "code",
   "execution_count": 76,
   "id": "f4798755-5bf8-4426-b07e-ac3792655403",
   "metadata": {},
   "outputs": [],
   "source": [
    "# Directory containing the text files\n",
    "directory = 'C:/Users/user/Desktop//News Data Preparation/nepali_news_dataset_20_categories_small/Health'\n",
    "\n",
    "# Output file where the text will be appended\n",
    "output_file = 'C:/Users/user/Desktop/News Data Preparation/CSV files/Health.csv'"
   ]
  },
  {
   "cell_type": "code",
   "execution_count": 77,
   "id": "18f6afc7-4fa5-4c83-be95-d721d5c25f51",
   "metadata": {},
   "outputs": [
    {
     "name": "stdout",
     "output_type": "stream",
     "text": [
      "Text files have been copied and appended into C:/Users/user/Desktop/News Data Preparation/CSV files/Health.csv\n"
     ]
    }
   ],
   "source": [
    "# Loop through each file in the directory\n",
    "for filename in os.listdir(directory):\n",
    "    if filename.endswith('.txt'):  # Assuming all files have .txt extension\n",
    "        file_path = os.path.join(directory, filename)\n",
    "        file_text = read_file(file_path)\n",
    "        append_to_file(output_file, file_text)\n",
    "\n",
    "print(\"Text files have been copied and appended into\", output_file)"
   ]
  },
  {
   "cell_type": "code",
   "execution_count": 78,
   "id": "99248422-80c3-42c4-bbf0-8e7ffa0ecc72",
   "metadata": {},
   "outputs": [],
   "source": [
    "# Directory containing the text files\n",
    "directory = 'C:/Users/user/Desktop/News Data Preparation/nepali_news_dataset_20_categories_small/Interview'\n",
    "\n",
    "# Output file where the text will be appended\n",
    "output_file = 'C:/Users/user/Desktop/News Data Preparation/CSV files/Interview.csv'"
   ]
  },
  {
   "cell_type": "code",
   "execution_count": 79,
   "id": "eb8e70d5-77c2-456b-9f28-e667001e631a",
   "metadata": {},
   "outputs": [
    {
     "name": "stdout",
     "output_type": "stream",
     "text": [
      "Text files have been copied and appended into C:/Users/user/Desktop/News Data Preparation/CSV files/Interview.csv\n"
     ]
    }
   ],
   "source": [
    "# Loop through each file in the directory\n",
    "for filename in os.listdir(directory):\n",
    "    if filename.endswith('.txt'):  # Assuming all files have .txt extension\n",
    "        file_path = os.path.join(directory, filename)\n",
    "        file_text = read_file(file_path)\n",
    "        append_to_file(output_file, file_text)\n",
    "\n",
    "print(\"Text files have been copied and appended into\", output_file)"
   ]
  },
  {
   "cell_type": "code",
   "execution_count": 80,
   "id": "0daeadc8-7767-4a29-9d8b-4fdfc1ef4261",
   "metadata": {},
   "outputs": [],
   "source": [
    "# Directory containing the text files\n",
    "directory = 'C:/Users/user/Desktop/News Data Preparation/nepali_news_dataset_20_categories_small/Literature'\n",
    "\n",
    "# Output file where the text will be appended\n",
    "output_file = 'C:/Users/user/Desktop/News Data Preparation/CSV files/Literature.csv'"
   ]
  },
  {
   "cell_type": "code",
   "execution_count": 81,
   "id": "f8a4c42d-2b03-4d5c-9344-d71c8698a1f1",
   "metadata": {},
   "outputs": [
    {
     "name": "stdout",
     "output_type": "stream",
     "text": [
      "Text files have been copied and appended into C:/Users/user/Desktop/News Data Preparation/CSV files/Literature.csv\n"
     ]
    }
   ],
   "source": [
    "# Loop through each file in the directory\n",
    "for filename in os.listdir(directory):\n",
    "    if filename.endswith('.txt'):  # Assuming all files have .txt extension\n",
    "        file_path = os.path.join(directory, filename)\n",
    "        file_text = read_file(file_path)\n",
    "        append_to_file(output_file, file_text)\n",
    "\n",
    "print(\"Text files have been copied and appended into\", output_file)"
   ]
  },
  {
   "cell_type": "code",
   "execution_count": 82,
   "id": "cd229fb8-01ca-44c8-a022-152c8c23a59e",
   "metadata": {},
   "outputs": [],
   "source": [
    "# Directory containing the text files\n",
    "directory = 'C:/Users/user/Desktop//News Data Preparation/nepali_news_dataset_20_categories_small/Migration'\n",
    "\n",
    "# Output file where the text will be appended\n",
    "output_file = 'C:/Users/user/Desktop/News Data Preparation/CSV files/Migration.csv'"
   ]
  },
  {
   "cell_type": "code",
   "execution_count": 83,
   "id": "ee3b2032-f17f-4f1f-9447-d0fc8ff21209",
   "metadata": {},
   "outputs": [
    {
     "name": "stdout",
     "output_type": "stream",
     "text": [
      "Text files have been copied and appended into C:/Users/user/Desktop/News Data Preparation/CSV files/Migration.csv\n"
     ]
    }
   ],
   "source": [
    "# Loop through each file in the directory\n",
    "for filename in os.listdir(directory):\n",
    "    if filename.endswith('.txt'):  # Assuming all files have .txt extension\n",
    "        file_path = os.path.join(directory, filename)\n",
    "        file_text = read_file(file_path)\n",
    "        append_to_file(output_file, file_text)\n",
    "\n",
    "print(\"Text files have been copied and appended into\", output_file)"
   ]
  },
  {
   "cell_type": "code",
   "execution_count": 84,
   "id": "60b360a0-2d17-451c-a115-13e0529199c1",
   "metadata": {},
   "outputs": [],
   "source": [
    "# Directory containing the text files\n",
    "directory = 'C:/Users/user/Desktop/News Data Preparation/nepali_news_dataset_20_categories_small/Opinion'\n",
    "\n",
    "# Output file where the text will be appended\n",
    "output_file = 'C:/Users/user/Desktop/News Data Preparation/CSV files/Opinion.csv'"
   ]
  },
  {
   "cell_type": "code",
   "execution_count": 85,
   "id": "8899f72a-8327-4b33-a780-013105545115",
   "metadata": {},
   "outputs": [
    {
     "name": "stdout",
     "output_type": "stream",
     "text": [
      "Text files have been copied and appended into C:/Users/user/Desktop/News Data Preparation/CSV files/Opinion.csv\n"
     ]
    }
   ],
   "source": [
    "# Loop through each file in the directory\n",
    "for filename in os.listdir(directory):\n",
    "    if filename.endswith('.txt'):  # Assuming all files have .txt extension\n",
    "        file_path = os.path.join(directory, filename)\n",
    "        file_text = read_file(file_path)\n",
    "        append_to_file(output_file, file_text)\n",
    "\n",
    "print(\"Text files have been copied and appended into\", output_file)"
   ]
  },
  {
   "cell_type": "code",
   "execution_count": 86,
   "id": "a354f173-ff55-46ad-880c-ff9484fdd0dd",
   "metadata": {},
   "outputs": [],
   "source": [
    "# Directory containing the text files\n",
    "directory = 'C:/Users/user/Desktop//News Data Preparation/nepali_news_dataset_20_categories_small/Politics'\n",
    "\n",
    "# Output file where the text will be appended\n",
    "output_file = 'C:/Users/user/Desktop/News Data Preparation/CSV files/Politics.csv'"
   ]
  },
  {
   "cell_type": "code",
   "execution_count": 87,
   "id": "36639ab1-eab8-461e-96d2-986c544fb523",
   "metadata": {},
   "outputs": [
    {
     "name": "stdout",
     "output_type": "stream",
     "text": [
      "Text files have been copied and appended into C:/Users/user/Desktop/News Data Preparation/CSV files/Politics.csv\n"
     ]
    }
   ],
   "source": [
    "# Loop through each file in the directory\n",
    "for filename in os.listdir(directory):\n",
    "    if filename.endswith('.txt'):  # Assuming all files have .txt extension\n",
    "        file_path = os.path.join(directory, filename)\n",
    "        file_text = read_file(file_path)\n",
    "        append_to_file(output_file, file_text)\n",
    "\n",
    "print(\"Text files have been copied and appended into\", output_file)"
   ]
  },
  {
   "cell_type": "code",
   "execution_count": 88,
   "id": "dd1a505b-f855-469a-b943-bca8dfedcfc8",
   "metadata": {},
   "outputs": [],
   "source": [
    "# Directory containing the text files\n",
    "directory = 'C:/Users/user/Desktop/News Data Preparation/nepali_news_dataset_20_categories_small/Society'\n",
    "\n",
    "# Output file where the text will be appended\n",
    "output_file = 'C:/Users/user/Desktop/News Data Preparation/CSV files/Society.csv'"
   ]
  },
  {
   "cell_type": "code",
   "execution_count": 89,
   "id": "88417f0e-870d-4f84-a520-bdf75c8bb576",
   "metadata": {},
   "outputs": [
    {
     "name": "stdout",
     "output_type": "stream",
     "text": [
      "Text files have been copied and appended into C:/Users/user/Desktop/News Data Preparation/CSV files/Society.csv\n"
     ]
    }
   ],
   "source": [
    "# Loop through each file in the directory\n",
    "for filename in os.listdir(directory):\n",
    "    if filename.endswith('.txt'):  # Assuming all files have .txt extension\n",
    "        file_path = os.path.join(directory, filename)\n",
    "        file_text = read_file(file_path)\n",
    "        append_to_file(output_file, file_text)\n",
    "\n",
    "print(\"Text files have been copied and appended into\", output_file)"
   ]
  },
  {
   "cell_type": "code",
   "execution_count": 90,
   "id": "71574c4d-9b45-4fb5-bd53-8cada85d24fb",
   "metadata": {},
   "outputs": [],
   "source": [
    "# Directory containing the text files\n",
    "directory = 'C:/Users/user/Desktop/News Data Preparation/nepali_news_dataset_20_categories_small/Sports'\n",
    "\n",
    "# Output file where the text will be appended\n",
    "output_file = 'C:/Users/user/Desktop/News Data Preparation/CSV files/Sports.csv'"
   ]
  },
  {
   "cell_type": "code",
   "execution_count": 91,
   "id": "662c7617-7d42-4b8f-a294-d56239fa51f0",
   "metadata": {},
   "outputs": [
    {
     "name": "stdout",
     "output_type": "stream",
     "text": [
      "Text files have been copied and appended into C:/Users/user/Desktop/News Data Preparation/CSV files/Sports.csv\n"
     ]
    }
   ],
   "source": [
    "# Loop through each file in the directory\n",
    "for filename in os.listdir(directory):\n",
    "    if filename.endswith('.txt'):  # Assuming all files have .txt extension\n",
    "        file_path = os.path.join(directory, filename)\n",
    "        file_text = read_file(file_path)\n",
    "        append_to_file(output_file, file_text)\n",
    "\n",
    "print(\"Text files have been copied and appended into\", output_file)"
   ]
  },
  {
   "cell_type": "code",
   "execution_count": 92,
   "id": "f78fe4cf-9dde-4ac7-914c-e02e681ff188",
   "metadata": {},
   "outputs": [],
   "source": [
    "# Directory containing the text files\n",
    "directory = 'C:/Users/user/Desktop/News Data Preparation/nepali_news_dataset_20_categories_small/Technology'\n",
    "\n",
    "# Output file where the text will be appended\n",
    "output_file = 'C:/Users/user/Desktop/News Data Preparation/CSV files/Technology.csv'"
   ]
  },
  {
   "cell_type": "code",
   "execution_count": 93,
   "id": "46f39708-62f6-4704-89a8-004f12b2f091",
   "metadata": {},
   "outputs": [
    {
     "name": "stdout",
     "output_type": "stream",
     "text": [
      "Text files have been copied and appended into C:/Users/user/Desktop/News Data Preparation/CSV files/Technology.csv\n"
     ]
    }
   ],
   "source": [
    "# Loop through each file in the directory\n",
    "for filename in os.listdir(directory):\n",
    "    if filename.endswith('.txt'):  # Assuming all files have .txt extension\n",
    "        file_path = os.path.join(directory, filename)\n",
    "        file_text = read_file(file_path)\n",
    "        append_to_file(output_file, file_text)\n",
    "\n",
    "print(\"Text files have been copied and appended into\", output_file)"
   ]
  },
  {
   "cell_type": "code",
   "execution_count": 94,
   "id": "b02deb46-7d48-42a3-85d8-ac0dba2f0b37",
   "metadata": {},
   "outputs": [],
   "source": [
    "# Directory containing the text files\n",
    "directory = 'C:/Users/user/Desktop/News Data Preparation/nepali_news_dataset_20_categories_small/Tourism'\n",
    "\n",
    "# Output file where the text will be appended\n",
    "output_file = 'C:/Users/user/Desktop/News Data Preparation/CSV files/Tourism.csv'"
   ]
  },
  {
   "cell_type": "code",
   "execution_count": 95,
   "id": "704307d9-f55f-46ef-bbea-2a3e0b3e27d0",
   "metadata": {},
   "outputs": [
    {
     "name": "stdout",
     "output_type": "stream",
     "text": [
      "Text files have been copied and appended into C:/Users/user/Desktop/News Data Preparation/CSV files/Tourism.csv\n"
     ]
    }
   ],
   "source": [
    "# Loop through each file in the directory\n",
    "for filename in os.listdir(directory):\n",
    "    if filename.endswith('.txt'):  # Assuming all files have .txt extension\n",
    "        file_path = os.path.join(directory, filename)\n",
    "        file_text = read_file(file_path)\n",
    "        append_to_file(output_file, file_text)\n",
    "\n",
    "print(\"Text files have been copied and appended into\", output_file)"
   ]
  },
  {
   "cell_type": "code",
   "execution_count": 96,
   "id": "2ae4289b-0ba4-4a42-bf3f-7fb4365de530",
   "metadata": {},
   "outputs": [],
   "source": [
    "# Directory containing the text files\n",
    "directory = 'C:/Users/user/Desktop//News Data Preparation/nepali_news_dataset_20_categories_small/World'\n",
    "\n",
    "# Output file where the text will be appended\n",
    "output_file = 'C:/Users/user/Desktop/News Data Preparation/CSV files/World.csv'"
   ]
  },
  {
   "cell_type": "code",
   "execution_count": 97,
   "id": "575e4401-498d-4589-acf2-8621dbffad3d",
   "metadata": {},
   "outputs": [
    {
     "name": "stdout",
     "output_type": "stream",
     "text": [
      "Text files have been copied and appended into C:/Users/user/Desktop/News Data Preparation/CSV files/World.csv\n"
     ]
    }
   ],
   "source": [
    "# Loop through each file in the directory\n",
    "for filename in os.listdir(directory):\n",
    "    if filename.endswith('.txt'):  # Assuming all files have .txt extension\n",
    "        file_path = os.path.join(directory, filename)\n",
    "        file_text = read_file(file_path)\n",
    "        append_to_file(output_file, file_text)\n",
    "\n",
    "print(\"Text files have been copied and appended into\", output_file)"
   ]
  },
  {
   "cell_type": "code",
   "execution_count": null,
   "id": "c8df9e09-6904-417d-a5da-1586c3a7ad81",
   "metadata": {},
   "outputs": [],
   "source": []
  },
  {
   "cell_type": "markdown",
   "id": "ddc181ad-f82b-43b7-8e47-2fc2a39d6016",
   "metadata": {},
   "source": [
    "### Import necessary libraries"
   ]
  },
  {
   "cell_type": "code",
   "execution_count": 98,
   "id": "b43a4518-02db-40a7-a416-c4e46c987f0b",
   "metadata": {},
   "outputs": [],
   "source": [
    "import os\n",
    "import pandas as pd\n",
    "import numpy as np\n",
    "import warnings\n",
    "warnings.filterwarnings(\"ignore\")"
   ]
  },
  {
   "cell_type": "markdown",
   "id": "3140d947-2c19-4f5a-9d6c-b8c83d500a5c",
   "metadata": {},
   "source": [
    "### Load CSV files"
   ]
  },
  {
   "cell_type": "code",
   "execution_count": 99,
   "id": "0b3922c8-9eac-461b-8b5b-c4d32f0a0a1a",
   "metadata": {},
   "outputs": [
    {
     "name": "stdout",
     "output_type": "stream",
     "text": [
      "['Agriculture.csv', 'Automobiles.csv', 'Bank.csv', 'Blog.csv', 'Business.csv', 'Economy.csv', 'Education.csv', 'Employment.csv', 'Entertainment.csv', 'Health.csv', 'Interview.csv', 'Literature.csv', 'Migration.csv', 'Opinion.csv', 'Politics.csv', 'Society.csv', 'Sports.csv', 'Technology.csv', 'Tourism.csv', 'World.csv']\n"
     ]
    }
   ],
   "source": [
    "all_filenames = [i for i in os.listdir(\"CSV files\") if  \".csv\" in i and \"combined\" not in i]\n",
    "print(all_filenames)"
   ]
  },
  {
   "cell_type": "markdown",
   "id": "66c4a01e-58df-4473-b5d5-6a87f8056125",
   "metadata": {},
   "source": [
    "### Getting the root of CSV data"
   ]
  },
  {
   "cell_type": "code",
   "execution_count": 100,
   "id": "17f20ee1-2a41-46ca-af7e-f3080728df9d",
   "metadata": {},
   "outputs": [
    {
     "data": {
      "text/plain": [
       "'CSV files/'"
      ]
     },
     "execution_count": 100,
     "metadata": {},
     "output_type": "execute_result"
    }
   ],
   "source": [
    "root = \"CSV files/\"\n",
    "root"
   ]
  },
  {
   "cell_type": "code",
   "execution_count": null,
   "id": "74809b16-93aa-4c53-8cd0-0d19ee00c00c",
   "metadata": {},
   "outputs": [],
   "source": []
  },
  {
   "cell_type": "markdown",
   "id": "909e9c2d-5326-47f1-b0d0-ad398f757535",
   "metadata": {},
   "source": [
    "### Combining the all CSV files into one Dataframe"
   ]
  },
  {
   "cell_type": "code",
   "execution_count": 107,
   "id": "3f98f7d9-9355-44aa-a7fc-69c743c196a1",
   "metadata": {},
   "outputs": [
    {
     "ename": "ParserError",
     "evalue": "Error tokenizing data. C error: Expected 1 fields in line 4, saw 2\n",
     "output_type": "error",
     "traceback": [
      "\u001b[1;31m---------------------------------------------------------------------------\u001b[0m",
      "\u001b[1;31mParserError\u001b[0m                               Traceback (most recent call last)",
      "Cell \u001b[1;32mIn[107], line 8\u001b[0m\n\u001b[0;32m      5\u001b[0m path \u001b[38;5;241m=\u001b[39m \u001b[38;5;124m'\u001b[39m\u001b[38;5;124mC:/Users/user/Desktop/News Data Preparation/CSV files/\u001b[39m\u001b[38;5;124m'\u001b[39m\n\u001b[0;32m      7\u001b[0m \u001b[38;5;66;03m# Combine all CSV files into one DataFrame\u001b[39;00m\n\u001b[1;32m----> 8\u001b[0m combined_df \u001b[38;5;241m=\u001b[39m pd\u001b[38;5;241m.\u001b[39mconcat([pd\u001b[38;5;241m.\u001b[39mread_csv(file) \u001b[38;5;28;01mfor\u001b[39;00m file \u001b[38;5;129;01min\u001b[39;00m glob\u001b[38;5;241m.\u001b[39mglob(path \u001b[38;5;241m+\u001b[39m \u001b[38;5;124m\"\u001b[39m\u001b[38;5;124m*.csv\u001b[39m\u001b[38;5;124m\"\u001b[39m)], ignore_index\u001b[38;5;241m=\u001b[39m\u001b[38;5;28;01mTrue\u001b[39;00m, error_bad_lines\u001b[38;5;241m=\u001b[39m\u001b[38;5;28;01mFalse\u001b[39;00m, warn_bad_lines\u001b[38;5;241m=\u001b[39m\u001b[38;5;28;01mTrue\u001b[39;00m)\n\u001b[0;32m     10\u001b[0m \u001b[38;5;66;03m# Display the combined DataFrame\u001b[39;00m\n\u001b[0;32m     11\u001b[0m \u001b[38;5;28mprint\u001b[39m(combined_df)\n",
      "Cell \u001b[1;32mIn[107], line 8\u001b[0m, in \u001b[0;36m<listcomp>\u001b[1;34m(.0)\u001b[0m\n\u001b[0;32m      5\u001b[0m path \u001b[38;5;241m=\u001b[39m \u001b[38;5;124m'\u001b[39m\u001b[38;5;124mC:/Users/user/Desktop/News Data Preparation/CSV files/\u001b[39m\u001b[38;5;124m'\u001b[39m\n\u001b[0;32m      7\u001b[0m \u001b[38;5;66;03m# Combine all CSV files into one DataFrame\u001b[39;00m\n\u001b[1;32m----> 8\u001b[0m combined_df \u001b[38;5;241m=\u001b[39m pd\u001b[38;5;241m.\u001b[39mconcat([pd\u001b[38;5;241m.\u001b[39mread_csv(file) \u001b[38;5;28;01mfor\u001b[39;00m file \u001b[38;5;129;01min\u001b[39;00m glob\u001b[38;5;241m.\u001b[39mglob(path \u001b[38;5;241m+\u001b[39m \u001b[38;5;124m\"\u001b[39m\u001b[38;5;124m*.csv\u001b[39m\u001b[38;5;124m\"\u001b[39m)], ignore_index\u001b[38;5;241m=\u001b[39m\u001b[38;5;28;01mTrue\u001b[39;00m, error_bad_lines\u001b[38;5;241m=\u001b[39m\u001b[38;5;28;01mFalse\u001b[39;00m, warn_bad_lines\u001b[38;5;241m=\u001b[39m\u001b[38;5;28;01mTrue\u001b[39;00m)\n\u001b[0;32m     10\u001b[0m \u001b[38;5;66;03m# Display the combined DataFrame\u001b[39;00m\n\u001b[0;32m     11\u001b[0m \u001b[38;5;28mprint\u001b[39m(combined_df)\n",
      "File \u001b[1;32mC:\\Anaconda\\Lib\\site-packages\\pandas\\io\\parsers\\readers.py:948\u001b[0m, in \u001b[0;36mread_csv\u001b[1;34m(filepath_or_buffer, sep, delimiter, header, names, index_col, usecols, dtype, engine, converters, true_values, false_values, skipinitialspace, skiprows, skipfooter, nrows, na_values, keep_default_na, na_filter, verbose, skip_blank_lines, parse_dates, infer_datetime_format, keep_date_col, date_parser, date_format, dayfirst, cache_dates, iterator, chunksize, compression, thousands, decimal, lineterminator, quotechar, quoting, doublequote, escapechar, comment, encoding, encoding_errors, dialect, on_bad_lines, delim_whitespace, low_memory, memory_map, float_precision, storage_options, dtype_backend)\u001b[0m\n\u001b[0;32m    935\u001b[0m kwds_defaults \u001b[38;5;241m=\u001b[39m _refine_defaults_read(\n\u001b[0;32m    936\u001b[0m     dialect,\n\u001b[0;32m    937\u001b[0m     delimiter,\n\u001b[1;32m   (...)\u001b[0m\n\u001b[0;32m    944\u001b[0m     dtype_backend\u001b[38;5;241m=\u001b[39mdtype_backend,\n\u001b[0;32m    945\u001b[0m )\n\u001b[0;32m    946\u001b[0m kwds\u001b[38;5;241m.\u001b[39mupdate(kwds_defaults)\n\u001b[1;32m--> 948\u001b[0m \u001b[38;5;28;01mreturn\u001b[39;00m _read(filepath_or_buffer, kwds)\n",
      "File \u001b[1;32mC:\\Anaconda\\Lib\\site-packages\\pandas\\io\\parsers\\readers.py:617\u001b[0m, in \u001b[0;36m_read\u001b[1;34m(filepath_or_buffer, kwds)\u001b[0m\n\u001b[0;32m    614\u001b[0m     \u001b[38;5;28;01mreturn\u001b[39;00m parser\n\u001b[0;32m    616\u001b[0m \u001b[38;5;28;01mwith\u001b[39;00m parser:\n\u001b[1;32m--> 617\u001b[0m     \u001b[38;5;28;01mreturn\u001b[39;00m parser\u001b[38;5;241m.\u001b[39mread(nrows)\n",
      "File \u001b[1;32mC:\\Anaconda\\Lib\\site-packages\\pandas\\io\\parsers\\readers.py:1748\u001b[0m, in \u001b[0;36mTextFileReader.read\u001b[1;34m(self, nrows)\u001b[0m\n\u001b[0;32m   1741\u001b[0m nrows \u001b[38;5;241m=\u001b[39m validate_integer(\u001b[38;5;124m\"\u001b[39m\u001b[38;5;124mnrows\u001b[39m\u001b[38;5;124m\"\u001b[39m, nrows)\n\u001b[0;32m   1742\u001b[0m \u001b[38;5;28;01mtry\u001b[39;00m:\n\u001b[0;32m   1743\u001b[0m     \u001b[38;5;66;03m# error: \"ParserBase\" has no attribute \"read\"\u001b[39;00m\n\u001b[0;32m   1744\u001b[0m     (\n\u001b[0;32m   1745\u001b[0m         index,\n\u001b[0;32m   1746\u001b[0m         columns,\n\u001b[0;32m   1747\u001b[0m         col_dict,\n\u001b[1;32m-> 1748\u001b[0m     ) \u001b[38;5;241m=\u001b[39m \u001b[38;5;28mself\u001b[39m\u001b[38;5;241m.\u001b[39m_engine\u001b[38;5;241m.\u001b[39mread(  \u001b[38;5;66;03m# type: ignore[attr-defined]\u001b[39;00m\n\u001b[0;32m   1749\u001b[0m         nrows\n\u001b[0;32m   1750\u001b[0m     )\n\u001b[0;32m   1751\u001b[0m \u001b[38;5;28;01mexcept\u001b[39;00m \u001b[38;5;167;01mException\u001b[39;00m:\n\u001b[0;32m   1752\u001b[0m     \u001b[38;5;28mself\u001b[39m\u001b[38;5;241m.\u001b[39mclose()\n",
      "File \u001b[1;32mC:\\Anaconda\\Lib\\site-packages\\pandas\\io\\parsers\\c_parser_wrapper.py:234\u001b[0m, in \u001b[0;36mCParserWrapper.read\u001b[1;34m(self, nrows)\u001b[0m\n\u001b[0;32m    232\u001b[0m \u001b[38;5;28;01mtry\u001b[39;00m:\n\u001b[0;32m    233\u001b[0m     \u001b[38;5;28;01mif\u001b[39;00m \u001b[38;5;28mself\u001b[39m\u001b[38;5;241m.\u001b[39mlow_memory:\n\u001b[1;32m--> 234\u001b[0m         chunks \u001b[38;5;241m=\u001b[39m \u001b[38;5;28mself\u001b[39m\u001b[38;5;241m.\u001b[39m_reader\u001b[38;5;241m.\u001b[39mread_low_memory(nrows)\n\u001b[0;32m    235\u001b[0m         \u001b[38;5;66;03m# destructive to chunks\u001b[39;00m\n\u001b[0;32m    236\u001b[0m         data \u001b[38;5;241m=\u001b[39m _concatenate_chunks(chunks)\n",
      "File \u001b[1;32mparsers.pyx:843\u001b[0m, in \u001b[0;36mpandas._libs.parsers.TextReader.read_low_memory\u001b[1;34m()\u001b[0m\n",
      "File \u001b[1;32mparsers.pyx:904\u001b[0m, in \u001b[0;36mpandas._libs.parsers.TextReader._read_rows\u001b[1;34m()\u001b[0m\n",
      "File \u001b[1;32mparsers.pyx:879\u001b[0m, in \u001b[0;36mpandas._libs.parsers.TextReader._tokenize_rows\u001b[1;34m()\u001b[0m\n",
      "File \u001b[1;32mparsers.pyx:890\u001b[0m, in \u001b[0;36mpandas._libs.parsers.TextReader._check_tokenize_status\u001b[1;34m()\u001b[0m\n",
      "File \u001b[1;32mparsers.pyx:2058\u001b[0m, in \u001b[0;36mpandas._libs.parsers.raise_parser_error\u001b[1;34m()\u001b[0m\n",
      "\u001b[1;31mParserError\u001b[0m: Error tokenizing data. C error: Expected 1 fields in line 4, saw 2\n"
     ]
    }
   ],
   "source": [
    "import pandas as pd\n",
    "import glob\n",
    "\n",
    "# Specify the path where your CSV files are located\n",
    "path = 'C:/Users/user/Desktop/News Data Preparation/CSV files/'\n",
    "\n",
    "# Combine all CSV files into one DataFrame\n",
    "combined_df = pd.concat([pd.read_csv(file) for file in glob.glob(path + \"*.csv\")], ignore_index=True, error_bad_lines=False, warn_bad_lines=True)\n",
    "\n",
    "# Display the combined DataFrame\n",
    "print(combined_df)"
   ]
  },
  {
   "cell_type": "code",
   "execution_count": 48,
   "id": "38edd50f-dea3-4be1-9bcb-c524cf17324f",
   "metadata": {},
   "outputs": [
    {
     "ename": "NameError",
     "evalue": "name 'combined_df' is not defined",
     "output_type": "error",
     "traceback": [
      "\u001b[1;31m---------------------------------------------------------------------------\u001b[0m",
      "\u001b[1;31mNameError\u001b[0m                                 Traceback (most recent call last)",
      "Cell \u001b[1;32mIn[48], line 2\u001b[0m\n\u001b[0;32m      1\u001b[0m \u001b[38;5;66;03m# Save the combined dataframe to a new CSV file\u001b[39;00m\n\u001b[1;32m----> 2\u001b[0m combined_df\u001b[38;5;241m.\u001b[39mto_csv(\u001b[38;5;124m\"\u001b[39m\u001b[38;5;124mcombined.csv\u001b[39m\u001b[38;5;124m\"\u001b[39m, index\u001b[38;5;241m=\u001b[39m\u001b[38;5;28;01mFalse\u001b[39;00m)\n",
      "\u001b[1;31mNameError\u001b[0m: name 'combined_df' is not defined"
     ]
    }
   ],
   "source": [
    "# Save the combined dataframe to a new CSV file\n",
    "combined_df.to_csv(\"combined.csv\", index=False)"
   ]
  },
  {
   "cell_type": "code",
   "execution_count": 49,
   "id": "477bc280-e6e9-4860-b895-60867ec6b917",
   "metadata": {},
   "outputs": [
    {
     "data": {
      "text/plain": [
       "(2134, 2)"
      ]
     },
     "execution_count": 49,
     "metadata": {},
     "output_type": "execute_result"
    }
   ],
   "source": [
    "# Read Combined CSV file\n",
    "combined_csv = pd.read_csv('combined.csv')\n",
    "combined_csv.shape"
   ]
  },
  {
   "cell_type": "markdown",
   "id": "ebbf5b91-b6e2-4fce-85df-55e9b9e08cbf",
   "metadata": {},
   "source": [
    "### Copying the original dataframe into df"
   ]
  },
  {
   "cell_type": "code",
   "execution_count": 9,
   "id": "8e0a04ee-1a3c-48ab-8e69-49ac0e44dcff",
   "metadata": {},
   "outputs": [
    {
     "data": {
      "text/html": [
       "<div>\n",
       "<style scoped>\n",
       "    .dataframe tbody tr th:only-of-type {\n",
       "        vertical-align: middle;\n",
       "    }\n",
       "\n",
       "    .dataframe tbody tr th {\n",
       "        vertical-align: top;\n",
       "    }\n",
       "\n",
       "    .dataframe thead th {\n",
       "        text-align: right;\n",
       "    }\n",
       "</style>\n",
       "<table border=\"1\" class=\"dataframe\">\n",
       "  <thead>\n",
       "    <tr style=\"text-align: right;\">\n",
       "      <th></th>\n",
       "      <th>text</th>\n",
       "      <th>category</th>\n",
       "    </tr>\n",
       "  </thead>\n",
       "  <tbody>\n",
       "    <tr>\n",
       "      <th>0</th>\n",
       "      <td>﻿काठमाडौंमा पहिलो पटक स्ट्रबेरीको व्यवसायिक खे...</td>\n",
       "      <td>Agriculture</td>\n",
       "    </tr>\n",
       "    <tr>\n",
       "      <th>1</th>\n",
       "      <td>जिल्लाका किसानले लगाएको अदुवामा गानो कुहिने, ग...</td>\n",
       "      <td>Agriculture</td>\n",
       "    </tr>\n",
       "    <tr>\n",
       "      <th>2</th>\n",
       "      <td>काभ्रेपलाञ्चोकमा कृषकले एसआरआई प्रविधिमा गरेको...</td>\n",
       "      <td>Agriculture</td>\n",
       "    </tr>\n",
       "    <tr>\n",
       "      <th>3</th>\n",
       "      <td>राजधानीमा यतिबेला तरकारीको मूल्य आकासिएको छ। क...</td>\n",
       "      <td>Agriculture</td>\n",
       "    </tr>\n",
       "    <tr>\n",
       "      <th>4</th>\n",
       "      <td>पाल पोल्ट्री तथा लाइभस्टक क्षेत्रको समग्र विका...</td>\n",
       "      <td>Agriculture</td>\n",
       "    </tr>\n",
       "  </tbody>\n",
       "</table>\n",
       "</div>"
      ],
      "text/plain": [
       "                                                text     category\n",
       "0  ﻿काठमाडौंमा पहिलो पटक स्ट्रबेरीको व्यवसायिक खे...  Agriculture\n",
       "1  जिल्लाका किसानले लगाएको अदुवामा गानो कुहिने, ग...  Agriculture\n",
       "2  काभ्रेपलाञ्चोकमा कृषकले एसआरआई प्रविधिमा गरेको...  Agriculture\n",
       "3  राजधानीमा यतिबेला तरकारीको मूल्य आकासिएको छ। क...  Agriculture\n",
       "4  पाल पोल्ट्री तथा लाइभस्टक क्षेत्रको समग्र विका...  Agriculture"
      ]
     },
     "execution_count": 9,
     "metadata": {},
     "output_type": "execute_result"
    }
   ],
   "source": [
    "df = combined_df.copy()\n",
    "df.head()"
   ]
  },
  {
   "cell_type": "markdown",
   "id": "57f20263-2b02-4715-ac07-fdb8d03855a4",
   "metadata": {},
   "source": [
    "### Count news per category"
   ]
  },
  {
   "cell_type": "code",
   "execution_count": 10,
   "id": "c8cf60a5-9387-4e02-8164-fbdc48893625",
   "metadata": {},
   "outputs": [
    {
     "data": {
      "text/html": [
       "<div>\n",
       "<style scoped>\n",
       "    .dataframe tbody tr th:only-of-type {\n",
       "        vertical-align: middle;\n",
       "    }\n",
       "\n",
       "    .dataframe tbody tr th {\n",
       "        vertical-align: top;\n",
       "    }\n",
       "\n",
       "    .dataframe thead th {\n",
       "        text-align: right;\n",
       "    }\n",
       "</style>\n",
       "<table border=\"1\" class=\"dataframe\">\n",
       "  <thead>\n",
       "    <tr style=\"text-align: right;\">\n",
       "      <th></th>\n",
       "      <th>text</th>\n",
       "    </tr>\n",
       "    <tr>\n",
       "      <th>category</th>\n",
       "      <th></th>\n",
       "    </tr>\n",
       "  </thead>\n",
       "  <tbody>\n",
       "    <tr>\n",
       "      <th>Agriculture</th>\n",
       "      <td>100</td>\n",
       "    </tr>\n",
       "    <tr>\n",
       "      <th>automobiles</th>\n",
       "      <td>95</td>\n",
       "    </tr>\n",
       "    <tr>\n",
       "      <th>bank</th>\n",
       "      <td>417</td>\n",
       "    </tr>\n",
       "    <tr>\n",
       "      <th>business</th>\n",
       "      <td>89</td>\n",
       "    </tr>\n",
       "    <tr>\n",
       "      <th>economy</th>\n",
       "      <td>100</td>\n",
       "    </tr>\n",
       "    <tr>\n",
       "      <th>education</th>\n",
       "      <td>85</td>\n",
       "    </tr>\n",
       "    <tr>\n",
       "      <th>entertainment</th>\n",
       "      <td>72</td>\n",
       "    </tr>\n",
       "    <tr>\n",
       "      <th>health</th>\n",
       "      <td>94</td>\n",
       "    </tr>\n",
       "    <tr>\n",
       "      <th>politic</th>\n",
       "      <td>165</td>\n",
       "    </tr>\n",
       "    <tr>\n",
       "      <th>sports</th>\n",
       "      <td>320</td>\n",
       "    </tr>\n",
       "    <tr>\n",
       "      <th>technology</th>\n",
       "      <td>317</td>\n",
       "    </tr>\n",
       "    <tr>\n",
       "      <th>tourism</th>\n",
       "      <td>158</td>\n",
       "    </tr>\n",
       "    <tr>\n",
       "      <th>world</th>\n",
       "      <td>122</td>\n",
       "    </tr>\n",
       "  </tbody>\n",
       "</table>\n",
       "</div>"
      ],
      "text/plain": [
       "               text\n",
       "category           \n",
       "Agriculture     100\n",
       "automobiles      95\n",
       "bank            417\n",
       "business         89\n",
       "economy         100\n",
       "education        85\n",
       "entertainment    72\n",
       "health           94\n",
       "politic         165\n",
       "sports          320\n",
       "technology      317\n",
       "tourism         158\n",
       "world           122"
      ]
     },
     "execution_count": 10,
     "metadata": {},
     "output_type": "execute_result"
    }
   ],
   "source": [
    "df[[\"text\",\"category\"]].groupby(\"category\").count()"
   ]
  },
  {
   "cell_type": "markdown",
   "id": "b9c3a402-b8ed-4be1-b0c3-a8761112b07e",
   "metadata": {},
   "source": [
    "### Load Nepali stopwords file"
   ]
  },
  {
   "cell_type": "code",
   "execution_count": 11,
   "id": "1091cc0a-4572-4d05-a20a-b1afa7e8fe63",
   "metadata": {},
   "outputs": [
    {
     "data": {
      "text/plain": [
       "['अक्सर',\n",
       " 'अगाडि',\n",
       " 'अझै',\n",
       " 'अनुसार',\n",
       " 'अन्तर्गत',\n",
       " 'अन्य',\n",
       " 'अन्यत्र',\n",
       " 'अन्यथा',\n",
       " 'अब',\n",
       " 'अरू',\n",
       " 'अरूलाई',\n",
       " 'अर्को',\n",
       " 'अर्थात',\n",
       " 'अर्थात्',\n",
       " 'अलग',\n",
       " 'आए',\n",
       " 'आजको',\n",
       " 'आठ',\n",
       " 'आत्म',\n",
       " 'आदि',\n",
       " 'आफू',\n",
       " 'आफूलाई',\n",
       " 'आफैलाई',\n",
       " 'आफ्नै',\n",
       " 'आफ्नो',\n",
       " 'आयो',\n",
       " 'उदाहरण',\n",
       " 'उन',\n",
       " 'उनको',\n",
       " 'उनले',\n",
       " 'उप',\n",
       " 'उहाँलाई',\n",
       " 'एउटै',\n",
       " 'एक',\n",
       " 'एकदम',\n",
       " 'औं',\n",
       " 'कतै',\n",
       " 'कम से कम',\n",
       " 'कसरी',\n",
       " 'कसै',\n",
       " 'कसैले',\n",
       " 'कहाँबाट',\n",
       " 'कहिलेकाहीं',\n",
       " 'कहिल्यै',\n",
       " 'कहीं',\n",
       " 'का',\n",
       " 'कि',\n",
       " 'किन',\n",
       " 'किनभने',\n",
       " 'कुनै',\n",
       " 'कुरा',\n",
       " 'कृपया',\n",
       " 'के',\n",
       " 'केहि',\n",
       " 'केही',\n",
       " 'को',\n",
       " 'कोही',\n",
       " 'क्रमशः',\n",
       " 'गए',\n",
       " 'गरि',\n",
       " 'गरी',\n",
       " 'गरेका',\n",
       " 'गरेको',\n",
       " 'गरेर',\n",
       " 'गरौं',\n",
       " 'गर्छ',\n",
       " 'गर्छु',\n",
       " 'गर्दै',\n",
       " 'गर्न',\n",
       " 'गर्नु',\n",
       " 'गर्नुपर्छ',\n",
       " 'गर्ने',\n",
       " 'गर्यौं',\n",
       " 'गैर',\n",
       " 'चाँडै',\n",
       " 'चार',\n",
       " 'चाले',\n",
       " 'चाहनुहुन्छ',\n",
       " 'चाहन्छु',\n",
       " 'चाहिए',\n",
       " 'छ',\n",
       " 'छन्',\n",
       " 'छु',\n",
       " 'छैन',\n",
       " 'छौँ',\n",
       " 'छौं',\n",
       " 'जताततै',\n",
       " 'जब',\n",
       " 'जबकि',\n",
       " 'जसको',\n",
       " 'जसबाट',\n",
       " 'जसमा',\n",
       " 'जसलाई',\n",
       " 'जसले',\n",
       " 'जस्तै',\n",
       " 'जस्तो',\n",
       " 'जस्तोसुकै',\n",
       " 'जहाँ',\n",
       " 'जान',\n",
       " 'जाहिर',\n",
       " 'जुन',\n",
       " 'जे',\n",
       " 'जो',\n",
       " 'ठीक',\n",
       " 'त',\n",
       " 'तत्काल',\n",
       " 'तथा',\n",
       " 'तदनुसार',\n",
       " 'तपाइँको',\n",
       " 'तपाईं',\n",
       " 'तर',\n",
       " 'तल',\n",
       " 'तापनि',\n",
       " 'तिनी',\n",
       " 'तिनीहरू',\n",
       " 'तिनीहरूको',\n",
       " 'तिनीहरूलाई',\n",
       " 'तिनीहरूले',\n",
       " 'तिमी',\n",
       " 'तिर',\n",
       " 'ती',\n",
       " 'तीन',\n",
       " 'तुरुन्तै',\n",
       " 'तेस्रो',\n",
       " 'त्यसकारण',\n",
       " 'त्यसपछि',\n",
       " 'त्यसमा',\n",
       " 'त्यसैले',\n",
       " 'त्यहाँ',\n",
       " 'त्यो',\n",
       " 'थिए',\n",
       " 'थिएन',\n",
       " 'थिएनन्',\n",
       " 'थियो',\n",
       " 'दिए',\n",
       " 'दिनुभएको',\n",
       " 'दिनुहुन्छ',\n",
       " 'दुई',\n",
       " 'देख',\n",
       " 'देखि',\n",
       " 'देखिन्छ',\n",
       " 'देखियो',\n",
       " 'देखे',\n",
       " 'देखेको',\n",
       " 'देखेर',\n",
       " 'देख्न',\n",
       " 'दोश्रो',\n",
       " 'दोस्रो',\n",
       " 'धेरै',\n",
       " 'न',\n",
       " 'नजिकै',\n",
       " 'नत्र',\n",
       " 'नयाँ',\n",
       " 'नि',\n",
       " 'निम्ति',\n",
       " 'निम्न',\n",
       " 'निम्नानुसार',\n",
       " 'निर्दिष्ट',\n",
       " 'नै',\n",
       " 'नौ',\n",
       " 'पक्का',\n",
       " 'पक्कै',\n",
       " 'पछि',\n",
       " 'पछिल्लो',\n",
       " 'पटक',\n",
       " 'पनि',\n",
       " 'पर्छ',\n",
       " 'पर्थ्यो',\n",
       " 'पर्याप्त',\n",
       " 'पहिले',\n",
       " 'पहिलो',\n",
       " 'पहिल्यै',\n",
       " 'पाँच',\n",
       " 'पाँचौं',\n",
       " 'पूर्व',\n",
       " 'प्रति',\n",
       " 'प्रत्येक',\n",
       " 'प्लस',\n",
       " 'फेरि',\n",
       " 'बने',\n",
       " 'बन्द',\n",
       " 'बन्न',\n",
       " 'बरु',\n",
       " 'बाटो',\n",
       " 'बारे',\n",
       " 'बाहिर',\n",
       " 'बाहेक',\n",
       " 'बीच',\n",
       " 'बीचमा',\n",
       " 'भए',\n",
       " 'भएको',\n",
       " 'भन',\n",
       " 'भने',\n",
       " 'भने्',\n",
       " 'भन्छन्',\n",
       " 'भन्छु',\n",
       " 'भन्दा',\n",
       " 'भन्नुभयो',\n",
       " 'भन्ने',\n",
       " 'भर',\n",
       " 'भित्र',\n",
       " 'भित्री',\n",
       " 'म',\n",
       " 'मलाई',\n",
       " 'मा',\n",
       " 'मात्र',\n",
       " 'माथि',\n",
       " 'मुख्य',\n",
       " 'मेरो',\n",
       " 'यति',\n",
       " 'यथोचित',\n",
       " 'यदि',\n",
       " 'यद्यपि',\n",
       " 'यस',\n",
       " 'यसको',\n",
       " 'यसपछि',\n",
       " 'यसबाहेक',\n",
       " 'यसरी',\n",
       " 'यसो',\n",
       " 'यस्तो',\n",
       " 'यहाँ',\n",
       " 'यहाँसम्म',\n",
       " 'या',\n",
       " 'यी',\n",
       " 'यो',\n",
       " 'र',\n",
       " 'रे',\n",
       " 'रही',\n",
       " 'रहेका',\n",
       " 'रहेको',\n",
       " 'राखे',\n",
       " 'राख्छ',\n",
       " 'राम्रो',\n",
       " 'रूप',\n",
       " 'लगभग',\n",
       " 'लाई',\n",
       " 'लागि',\n",
       " 'ले',\n",
       " 'वरिपरि',\n",
       " 'वास्तवमा',\n",
       " 'वाहेक',\n",
       " 'विरुद्ध',\n",
       " 'विशेष',\n",
       " 'शायद',\n",
       " 'सँग',\n",
       " 'सँगै',\n",
       " 'सक्छ',\n",
       " 'सट्टा',\n",
       " 'सधैं',\n",
       " 'सबै',\n",
       " 'सबैलाई',\n",
       " 'समय',\n",
       " 'सम्भव',\n",
       " 'सम्म',\n",
       " 'सही',\n",
       " 'साँच्चै',\n",
       " 'सात',\n",
       " 'साथ',\n",
       " 'साथै',\n",
       " 'सायद',\n",
       " 'सारा',\n",
       " 'सो',\n",
       " 'सोध्न',\n",
       " 'सोही',\n",
       " 'स्पष्ट',\n",
       " 'हरे',\n",
       " 'हरेक',\n",
       " 'हामी',\n",
       " 'हामीलाई',\n",
       " 'हाम्रो',\n",
       " 'हुँ',\n",
       " 'हुन',\n",
       " 'हुने',\n",
       " 'हुनेछ',\n",
       " 'हुन्',\n",
       " 'हुन्छ',\n",
       " 'हो',\n",
       " 'होइन',\n",
       " 'होइनन्',\n",
       " 'होला',\n",
       " 'होस्']"
      ]
     },
     "execution_count": 11,
     "metadata": {},
     "output_type": "execute_result"
    }
   ],
   "source": [
    "stop_file = \"nepali_stopwords.txt\"\n",
    "stop_words = []\n",
    "with open(stop_file, encoding='utf-8') as fp:\n",
    "    lines = fp.readlines()\n",
    "    stop_words =list( map(lambda x:x.strip(), lines))\n",
    "stop_words"
   ]
  },
  {
   "cell_type": "markdown",
   "id": "8a01838f-8b25-4698-8704-921e6574206f",
   "metadata": {},
   "source": [
    "### Load Nepali punctuation file"
   ]
  },
  {
   "cell_type": "code",
   "execution_count": 12,
   "id": "89ca67ac-0e66-4734-ae62-d3dc3f7b6100",
   "metadata": {},
   "outputs": [
    {
     "data": {
      "text/plain": [
       "[':', '?', '|', '!', '.', ',', '\" \"', \"''\", '( )', '—', '-', \"?'\", '\\\\n']"
      ]
     },
     "execution_count": 12,
     "metadata": {},
     "output_type": "execute_result"
    }
   ],
   "source": [
    "punctuation_file = \"nepali_punctuation.txt\"\n",
    "punctuation_words = []\n",
    "with open(punctuation_file, encoding='utf-8') as fp:\n",
    "    lines = fp.readlines()\n",
    "    punctuation_words =list( map(lambda x:x.strip(), lines))\n",
    "punctuation_words"
   ]
  },
  {
   "cell_type": "markdown",
   "id": "065a903b-a8be-474d-a33e-7cd76b92d11e",
   "metadata": {},
   "source": [
    "### Text pre-processing\n",
    "#### Here we wrote a method called preprocess_text that takes data, stop words, and punctuation words as parameters. Then, we created a list called new_cat to hold it. Also initialized noise as numbers. For each words:\n",
    "   *  ##### If word is not in punctuation or stop words then,\n",
    "   *  ##### Do not take this word if it contains noise characters.\n",
    "   *  ##### Remove parenthesis"
   ]
  },
  {
   "cell_type": "code",
   "execution_count": 13,
   "id": "86a95595-78ba-4926-b336-43d875bde8ed",
   "metadata": {},
   "outputs": [
    {
     "name": "stdout",
     "output_type": "stream",
     "text": [
      "['सगरमाथा चुचुरो पुग् शेर्पा टोली नेतृत्व लेख्']\n"
     ]
    }
   ],
   "source": [
    "# Text Preprocessing\n",
    "from snowballstemmer import NepaliStemmer\n",
    "\n",
    "def preprocess_text(cat_data, stop_words, punctuation_words):\n",
    "    stemmer = NepaliStemmer() # initialize the Nepali stemmer\n",
    "    new_cat = []\n",
    "    noise = \"1,2,3,4,5,6,7,8,9,0,०,१,२,३,४,५,६,७,८,९\".split(\",\")\n",
    "    for row in cat_data:\n",
    "        words = row.strip().split(\" \")      \n",
    "        nwords = \"\"\n",
    "        for word in words:\n",
    "            # apply Nepali stemming to the word\n",
    "            if word not in punctuation_words and word not in stop_words:\n",
    "                word = stemmer.stemWord(word)\n",
    "                is_noise = False\n",
    "                for n in noise:\n",
    "                    if n in word:\n",
    "                        is_noise = True\n",
    "                        break\n",
    "                if not is_noise and len(word) > 1:\n",
    "                    word = word.replace(\"(\",\"\")\n",
    "                    word = word.replace(\")\",\"\")\n",
    "                    nwords += word + \" \"\n",
    "                \n",
    "        new_cat.append(nwords.strip())\n",
    "    return new_cat\n",
    "\n",
    "title_clean = preprocess_text([\"\\nसगरमाथा चुचुरोमा पुग्ने ९ शेर्पा टोलीको नेतृत्व लेख्नु चाहनुहुन्छ गरेको छ ।\"], stop_words, punctuation_words)\n",
    "print(title_clean)"
   ]
  },
  {
   "cell_type": "code",
   "execution_count": 14,
   "id": "18e190cd-8797-44a3-a0e0-d3057735cf12",
   "metadata": {},
   "outputs": [],
   "source": [
    "ndf = df.copy()"
   ]
  },
  {
   "cell_type": "code",
   "execution_count": 15,
   "id": "019adde1-e2dd-4e51-882d-3ca8f685bde9",
   "metadata": {},
   "outputs": [
    {
     "data": {
      "text/html": [
       "<div>\n",
       "<style scoped>\n",
       "    .dataframe tbody tr th:only-of-type {\n",
       "        vertical-align: middle;\n",
       "    }\n",
       "\n",
       "    .dataframe tbody tr th {\n",
       "        vertical-align: top;\n",
       "    }\n",
       "\n",
       "    .dataframe thead th {\n",
       "        text-align: right;\n",
       "    }\n",
       "</style>\n",
       "<table border=\"1\" class=\"dataframe\">\n",
       "  <thead>\n",
       "    <tr style=\"text-align: right;\">\n",
       "      <th></th>\n",
       "      <th>text</th>\n",
       "      <th>category</th>\n",
       "      <th>Title</th>\n",
       "    </tr>\n",
       "  </thead>\n",
       "  <tbody>\n",
       "    <tr>\n",
       "      <th>0</th>\n",
       "      <td>﻿काठमाडौंमा पहिलो पटक स्ट्रबेरीको व्यवसायिक खे...</td>\n",
       "      <td>Agriculture</td>\n",
       "      <td>﻿काठमाडौं स्ट्रबेरी व्यवसायिक खेती सुरु दशकसम्...</td>\n",
       "    </tr>\n",
       "    <tr>\n",
       "      <th>1</th>\n",
       "      <td>जिल्लाका किसानले लगाएको अदुवामा गानो कुहिने, ग...</td>\n",
       "      <td>Agriculture</td>\n",
       "      <td>जिल्ला किसान लगा अदुवा गानो कुहिने, गबारो पात ...</td>\n",
       "    </tr>\n",
       "    <tr>\n",
       "      <th>2</th>\n",
       "      <td>काभ्रेपलाञ्चोकमा कृषकले एसआरआई प्रविधिमा गरेको...</td>\n",
       "      <td>Agriculture</td>\n",
       "      <td>काभ्रेपलाञ्चोक कृषक एसआरआई प्रविधि धानखेतीबाट ...</td>\n",
       "    </tr>\n",
       "    <tr>\n",
       "      <th>3</th>\n",
       "      <td>राजधानीमा यतिबेला तरकारीको मूल्य आकासिएको छ। क...</td>\n",
       "      <td>Agriculture</td>\n",
       "      <td>राजधानी यतिबेला तरकारी मूल्य आकास छ। कतिपय तरक...</td>\n",
       "    </tr>\n",
       "    <tr>\n",
       "      <th>4</th>\n",
       "      <td>पाल पोल्ट्री तथा लाइभस्टक क्षेत्रको समग्र विका...</td>\n",
       "      <td>Agriculture</td>\n",
       "      <td>पाल पोल्ट्री लाइभस्टक क्षेत्र समग्र विकास उद्द...</td>\n",
       "    </tr>\n",
       "    <tr>\n",
       "      <th>...</th>\n",
       "      <td>...</td>\n",
       "      <td>...</td>\n",
       "      <td>...</td>\n",
       "    </tr>\n",
       "    <tr>\n",
       "      <th>2129</th>\n",
       "      <td>\\r\\n﻿बिहार । मुकेश पाठक सहित आधा दर्जन कुख्यात...</td>\n",
       "      <td>world</td>\n",
       "      <td>﻿बिहार मुकेश पाठक सहित आधा दर्जन कुख्यात अपराध...</td>\n",
       "    </tr>\n",
       "    <tr>\n",
       "      <th>2130</th>\n",
       "      <td>\\r\\n﻿राजविराज, २६ साउन । सप्तरी जिल्लामा पहिलो...</td>\n",
       "      <td>world</td>\n",
       "      <td>﻿राजविराज, साउन सप्तरी जिल्ला आयोजना लाग युवा ...</td>\n",
       "    </tr>\n",
       "    <tr>\n",
       "      <th>2131</th>\n",
       "      <td>\\r\\n﻿वीरगञ्ज, ५ असोज । वीरगञ्जमा भव्यताका साथ ...</td>\n",
       "      <td>world</td>\n",
       "      <td>﻿वीरगञ्ज, असोज वीरगञ्ज भव्यता विश्व शान्ति दिव...</td>\n",
       "    </tr>\n",
       "    <tr>\n",
       "      <th>2132</th>\n",
       "      <td>\\r\\n﻿वीरगञ्ज, ५ असोज । आत्मा ज्ञान प्रचार संघ ...</td>\n",
       "      <td>world</td>\n",
       "      <td>﻿वीरगञ्ज, असोज आत् ज्ञान प्रचार संघ वीरगञ्ज वि...</td>\n",
       "    </tr>\n",
       "    <tr>\n",
       "      <th>2133</th>\n",
       "      <td>\\r\\n﻿सिरहा, ३० कार्तिक । सिरहाको कर्जन्हाका क्...</td>\n",
       "      <td>world</td>\n",
       "      <td>﻿सिरहा, कार्तिक सिरहा कर्जन्हा क्यान्सर विरामी...</td>\n",
       "    </tr>\n",
       "  </tbody>\n",
       "</table>\n",
       "<p>2134 rows × 3 columns</p>\n",
       "</div>"
      ],
      "text/plain": [
       "                                                   text     category  \\\n",
       "0     ﻿काठमाडौंमा पहिलो पटक स्ट्रबेरीको व्यवसायिक खे...  Agriculture   \n",
       "1     जिल्लाका किसानले लगाएको अदुवामा गानो कुहिने, ग...  Agriculture   \n",
       "2     काभ्रेपलाञ्चोकमा कृषकले एसआरआई प्रविधिमा गरेको...  Agriculture   \n",
       "3     राजधानीमा यतिबेला तरकारीको मूल्य आकासिएको छ। क...  Agriculture   \n",
       "4     पाल पोल्ट्री तथा लाइभस्टक क्षेत्रको समग्र विका...  Agriculture   \n",
       "...                                                 ...          ...   \n",
       "2129  \\r\\n﻿बिहार । मुकेश पाठक सहित आधा दर्जन कुख्यात...        world   \n",
       "2130  \\r\\n﻿राजविराज, २६ साउन । सप्तरी जिल्लामा पहिलो...        world   \n",
       "2131  \\r\\n﻿वीरगञ्ज, ५ असोज । वीरगञ्जमा भव्यताका साथ ...        world   \n",
       "2132  \\r\\n﻿वीरगञ्ज, ५ असोज । आत्मा ज्ञान प्रचार संघ ...        world   \n",
       "2133  \\r\\n﻿सिरहा, ३० कार्तिक । सिरहाको कर्जन्हाका क्...        world   \n",
       "\n",
       "                                                  Title  \n",
       "0     ﻿काठमाडौं स्ट्रबेरी व्यवसायिक खेती सुरु दशकसम्...  \n",
       "1     जिल्ला किसान लगा अदुवा गानो कुहिने, गबारो पात ...  \n",
       "2     काभ्रेपलाञ्चोक कृषक एसआरआई प्रविधि धानखेतीबाट ...  \n",
       "3     राजधानी यतिबेला तरकारी मूल्य आकास छ। कतिपय तरक...  \n",
       "4     पाल पोल्ट्री लाइभस्टक क्षेत्र समग्र विकास उद्द...  \n",
       "...                                                 ...  \n",
       "2129  ﻿बिहार मुकेश पाठक सहित आधा दर्जन कुख्यात अपराध...  \n",
       "2130  ﻿राजविराज, साउन सप्तरी जिल्ला आयोजना लाग युवा ...  \n",
       "2131  ﻿वीरगञ्ज, असोज वीरगञ्ज भव्यता विश्व शान्ति दिव...  \n",
       "2132  ﻿वीरगञ्ज, असोज आत् ज्ञान प्रचार संघ वीरगञ्ज वि...  \n",
       "2133  ﻿सिरहा, कार्तिक सिरहा कर्जन्हा क्यान्सर विरामी...  \n",
       "\n",
       "[2134 rows x 3 columns]"
      ]
     },
     "execution_count": 15,
     "metadata": {},
     "output_type": "execute_result"
    }
   ],
   "source": [
    "# If you want to display the title of the news\n",
    "\n",
    "cat_title = []\n",
    "for i, row in ndf.iterrows():\n",
    "  ndf.loc[i, \"Title\"]= preprocess_text([row.text], stop_words, punctuation_words)[0]\n",
    "\n",
    "ndf"
   ]
  },
  {
   "cell_type": "markdown",
   "id": "e040f7c6-5a33-4401-9211-e1e70865bb6b",
   "metadata": {},
   "source": [
    "### Splitting data into Train and Test set\n",
    "  ##### Here we are splitting the Train data as 80% and Test data as 20%.\n",
    "  ##### Train data are used for model fitting and test data are used while doing model prediction.\n",
    "  ##### But before that, we will merge two similar categories into one and also assign a unique label for each class."
   ]
  },
  {
   "cell_type": "code",
   "execution_count": 16,
   "id": "61eae658-aa8b-4ffa-85e3-3d222de9df4e",
   "metadata": {},
   "outputs": [],
   "source": [
    "data = pd.DataFrame()\n",
    "\n",
    "data[\"text\"]=ndf.text\n",
    "# Preprocess the text data\n",
    "data[\"text\"] = preprocess_text(data[\"text\"], stop_words, punctuation_words)\n",
    "\n",
    "# data[\"category\"]=ndf.category\n",
    "\n",
    "data[\"label\"]=ndf.category\n",
    "data[\"target\"] = data[\"label\"].apply(lambda x: \"news\" if x==\"prabhas-news\" else \"national\" if x==\"province\" else x)\n",
    "classes = {c:i for i,c in enumerate(data.target.unique())}\n",
    "data[\"target\"] = data.target.apply(lambda x: classes[x])"
   ]
  },
  {
   "cell_type": "code",
   "execution_count": 17,
   "id": "2d051248-6cb3-4346-afdd-b3c26c8c1966",
   "metadata": {},
   "outputs": [],
   "source": [
    "# Split the data into training and testing sets\n",
    "from sklearn.model_selection import train_test_split\n",
    "\n",
    "X_train, X_test, Y_train, Y_test = train_test_split(data[\"text\"], data[\"target\"], test_size=0.2, random_state=1)"
   ]
  },
  {
   "cell_type": "markdown",
   "id": "86aa6aab-75c4-4f44-a098-30a268316660",
   "metadata": {},
   "source": [
    "### Feature selection: Bag of Words(BOW) approach"
   ]
  },
  {
   "cell_type": "code",
   "execution_count": 18,
   "id": "e921c37e-c99b-4565-8852-1f2de82d79c3",
   "metadata": {},
   "outputs": [
    {
     "name": "stdout",
     "output_type": "stream",
     "text": [
      "  (0, 6436)\t1\n",
      "  (0, 6498)\t1\n",
      "  (0, 6919)\t1\n",
      "  (0, 6930)\t1\n",
      "  (0, 16716)\t1\n",
      "  (0, 16842)\t1\n",
      "  (0, 20705)\t1\n",
      "  (0, 20831)\t1\n",
      "  (0, 25056)\t1\n",
      "  (0, 25084)\t1\n",
      "  (0, 27302)\t1\n",
      "  (0, 27324)\t1\n",
      "  (0, 29295)\t1\n",
      "  (0, 29348)\t1\n",
      "  (0, 34548)\t1\n",
      "  (0, 34589)\t1\n",
      "  (0, 40244)\t1\n",
      "  (0, 40251)\t1\n",
      "  (0, 43148)\t1\n",
      "  (0, 43149)\t1\n",
      "  (0, 52415)\t1\n",
      "  (0, 52565)\t1\n",
      "  (0, 57032)\t1\n",
      "  (0, 61556)\t1\n",
      "  (0, 61838)\t1\n",
      "  :\t:\n",
      "  (1706, 87878)\t1\n",
      "  (1706, 88126)\t1\n",
      "  (1706, 88147)\t4\n",
      "  (1706, 88226)\t1\n",
      "  (1706, 88330)\t1\n",
      "  (1706, 88342)\t2\n",
      "  (1706, 88642)\t2\n",
      "  (1706, 88646)\t1\n",
      "  (1706, 88837)\t1\n",
      "  (1706, 89052)\t2\n",
      "  (1706, 89055)\t1\n",
      "  (1706, 89065)\t1\n",
      "  (1706, 89128)\t1\n",
      "  (1706, 89217)\t1\n",
      "  (1706, 89282)\t1\n",
      "  (1706, 89289)\t1\n",
      "  (1706, 89617)\t3\n",
      "  (1706, 89731)\t1\n",
      "  (1706, 89733)\t2\n",
      "  (1706, 89965)\t1\n",
      "  (1706, 90017)\t1\n",
      "  (1706, 90281)\t1\n",
      "  (1706, 90385)\t1\n",
      "  (1706, 90841)\t1\n",
      "  (1706, 91120)\t1\n"
     ]
    },
    {
     "data": {
      "text/plain": [
       "(1707, 92201)"
      ]
     },
     "execution_count": 18,
     "metadata": {},
     "output_type": "execute_result"
    }
   ],
   "source": [
    "# Convert text data into numerical features using CountVectorizer\n",
    "from sklearn.feature_extraction.text import CountVectorizer\n",
    "\n",
    "vectorizer = CountVectorizer(ngram_range=(1, 2)).fit(X_train)\n",
    "X_train_vectorized = vectorizer.transform(X_train)\n",
    "print(X_train_vectorized)\n",
    "X_train_vectorized.shape"
   ]
  },
  {
   "cell_type": "markdown",
   "id": "cbf77316-d6e8-4229-9580-cf05976bee18",
   "metadata": {},
   "source": [
    "### Transforming the text data"
   ]
  },
  {
   "cell_type": "code",
   "execution_count": 19,
   "id": "de0baf5f-f7ac-4db4-a523-c29ba7774537",
   "metadata": {},
   "outputs": [
    {
     "data": {
      "text/plain": [
       "(1707, 92201)"
      ]
     },
     "execution_count": 19,
     "metadata": {},
     "output_type": "execute_result"
    }
   ],
   "source": [
    "# Transform data using TFIDF transformer \n",
    "from sklearn.feature_extraction.text import TfidfTransformer\n",
    "\n",
    "tfidf_transformer=TfidfTransformer()\n",
    "X_train_tfidf=tfidf_transformer.fit_transform(X_train_vectorized)\n",
    "X_train_tfidf.shape"
   ]
  },
  {
   "cell_type": "markdown",
   "id": "138f5c64-9c7f-4e40-b2c5-5b9440886c8e",
   "metadata": {},
   "source": [
    "### Model training"
   ]
  },
  {
   "cell_type": "code",
   "execution_count": 20,
   "id": "c3c4fa4e-0afa-4c07-918f-c300c9b82758",
   "metadata": {},
   "outputs": [
    {
     "data": {
      "text/plain": [
       "0.9976567076742824"
      ]
     },
     "execution_count": 20,
     "metadata": {},
     "output_type": "execute_result"
    }
   ],
   "source": [
    "# Train the Naive Bayes Classifier\n",
    "from sklearn.naive_bayes import MultinomialNB\n",
    "\n",
    "model = MultinomialNB(alpha=0.1)\n",
    "model.fit(X_train_vectorized, Y_train)\n",
    "model.score(X_train_vectorized, Y_train)"
   ]
  },
  {
   "cell_type": "code",
   "execution_count": 21,
   "id": "30db37df-55e7-47de-b27a-974c4a032296",
   "metadata": {},
   "outputs": [],
   "source": [
    "# Making predictions\n",
    "x_train_transformed = vectorizer.transform(X_test)\n",
    "y_predicted = model.predict(x_train_transformed)"
   ]
  },
  {
   "cell_type": "markdown",
   "id": "42c74000-cd2e-42d3-9449-cc51204d071f",
   "metadata": {},
   "source": [
    "### Accuracy, Precision, Recall & F1-Score"
   ]
  },
  {
   "cell_type": "code",
   "execution_count": 22,
   "id": "e29511b4-1b27-4800-b3e7-7d8bd9a7bdfd",
   "metadata": {},
   "outputs": [
    {
     "name": "stdout",
     "output_type": "stream",
     "text": [
      "Accuracy: 82.20140515222482 %\n"
     ]
    }
   ],
   "source": [
    "# Calculate accuracy\n",
    "predictions = model.predict(vectorizer.transform(X_test))\n",
    "print(\"Accuracy:\", 100 * sum(predictions == Y_test) / len(predictions), '%')"
   ]
  },
  {
   "cell_type": "code",
   "execution_count": 23,
   "id": "ae0906e2-a03a-4f1b-ae91-e7b3d9459b40",
   "metadata": {},
   "outputs": [
    {
     "name": "stdout",
     "output_type": "stream",
     "text": [
      "PRECISION_SCORE : 83.54540206881994 %\n",
      "RECALL_SCORE : 82.20140515222482 %\n",
      "F1_SCORE : 81.88335629763971 %\n"
     ]
    }
   ],
   "source": [
    "# Calculate precision, recall & f1-score\n",
    "from sklearn.metrics import precision_score, recall_score, f1_score\n",
    "\n",
    "PRECISION_SCORE = precision_score(Y_test, y_predicted, average='weighted')\n",
    "RECALL_SCORE = recall_score(Y_test, y_predicted, average='weighted')\n",
    "F1_SCORE = f1_score(Y_test, y_predicted, average='weighted')\n",
    "print(\"PRECISION_SCORE :\" ,PRECISION_SCORE*100, '%')\n",
    "print(\"RECALL_SCORE :\" ,RECALL_SCORE*100, '%')\n",
    "print(\"F1_SCORE :\" ,F1_SCORE*100, '%')"
   ]
  },
  {
   "cell_type": "markdown",
   "id": "f7cd488c-7f4a-4e42-8375-08ee54416f3c",
   "metadata": {},
   "source": [
    "### Confusion Matrix"
   ]
  },
  {
   "cell_type": "code",
   "execution_count": 24,
   "id": "ff68379f-09a9-4325-9252-0781585a9f01",
   "metadata": {},
   "outputs": [
    {
     "data": {
      "image/png": "[encoded data removed]",
      "text/plain": [
       "<Figure size 800x800 with 2 Axes>"
      ]
     },
     "metadata": {},
     "output_type": "display_data"
    }
   ],
   "source": [
    "from sklearn.metrics import confusion_matrix\n",
    "import matplotlib.pyplot as plt\n",
    "\n",
    "plt.figure(figsize=(8,8))\n",
    "conf_matrix = confusion_matrix(Y_test, y_predicted)\n",
    "plt.imshow(conf_matrix, cmap='Blues', interpolation='nearest')\n",
    "\n",
    "plt.colorbar()\n",
    "tick_marks = np.arange(len(classes))\n",
    "plt.xticks(tick_marks, classes, rotation=60)\n",
    "plt.yticks(tick_marks, classes)\n",
    "plt.title('Confusion Matrix')\n",
    "plt.xlabel('Predicted Label')\n",
    "plt.ylabel('True Label')\n",
    "plt.title('Confusion Matrix')\n",
    "plt.show()"
   ]
  },
  {
   "cell_type": "code",
   "execution_count": 25,
   "id": "2b28e31d-de19-469b-8175-3f38d02e6f7e",
   "metadata": {},
   "outputs": [
    {
     "name": "stdout",
     "output_type": "stream",
     "text": [
      "Predicted  0   1   2   3   4   5   6   7   8   9   10  11  12\n",
      "Actual                                                       \n",
      "0          11   0   0   0   1   0   0   0   0   0   0   1   0\n",
      "1           0  14   0   3   0   0   0   0   1   0   0   3   0\n",
      "2           0   2  73   1   1   0   0   0   0   0   1   0   2\n",
      "3           0   0   2  19   0   0   0   0   0   0   0   0   0\n",
      "4           2   2   5   2   5   0   0   0   1   0   0   2   0\n",
      "5           0   0   2   2   1  12   0   0   2   0   0   0   1\n",
      "6           1   0   1   2   1   0  12   0   1   0   0   2   1\n",
      "7           0   0   0   0   0   0   0  18   4   0   0   0   1\n",
      "8           0   0   1   1   0   0   0   0  36   0   0   0   0\n",
      "9           0   1   2   1   0   1   0   0   1  55   0   0   2\n",
      "10          0   0   1   1   0   0   0   0   0   0  53   0   0\n",
      "11          1   0   0   0   2   1   0   0   0   0   0  28   0\n",
      "12          1   0   1   3   0   1   0   0   0   0   0   0  15\n"
     ]
    }
   ],
   "source": [
    "# Create a DataFrame\n",
    "data = {'Actual': Y_test, 'Predicted': y_predicted}\n",
    "df = pd.DataFrame(data)\n",
    "\n",
    "# Create the confusion matrix\n",
    "conf_matrix = pd.crosstab(df['Actual'], df['Predicted'], rownames=['Actual'], colnames=['Predicted'])\n",
    "print(conf_matrix)"
   ]
  },
  {
   "cell_type": "markdown",
   "id": "cb06ece0-3f6a-4f13-b3bb-55a0b0badeff",
   "metadata": {},
   "source": [
    "### Creating unique class for different category"
   ]
  },
  {
   "cell_type": "code",
   "execution_count": 26,
   "id": "e3208d54-2fac-44e6-abe0-46593c1bbe19",
   "metadata": {},
   "outputs": [
    {
     "data": {
      "text/plain": [
       "(array([ 0,  1,  2,  3,  4,  5,  6,  7,  8,  9, 10, 11, 12], dtype=int64),\n",
       " {'Agriculture': 0,\n",
       "  'automobiles': 1,\n",
       "  'bank': 2,\n",
       "  'business': 3,\n",
       "  'economy': 4,\n",
       "  'education': 5,\n",
       "  'entertainment': 6,\n",
       "  'health': 7,\n",
       "  'politic': 8,\n",
       "  'sports': 9,\n",
       "  'technology': 10,\n",
       "  'tourism': 11,\n",
       "  'world': 12})"
      ]
     },
     "execution_count": 26,
     "metadata": {},
     "output_type": "execute_result"
    }
   ],
   "source": [
    "model.classes_, classes"
   ]
  },
  {
   "cell_type": "markdown",
   "id": "b0a4e26a-3196-41dc-8948-4f8f6b11e0b3",
   "metadata": {},
   "source": [
    "### Predict untrained data and try to find the right category"
   ]
  },
  {
   "cell_type": "code",
   "execution_count": 27,
   "id": "b58c8ff3-736c-4d70-9a92-3b146d41f17c",
   "metadata": {},
   "outputs": [
    {
     "data": {
      "text/plain": [
       "['politic']"
      ]
     },
     "execution_count": 27,
     "metadata": {},
     "output_type": "execute_result"
    }
   ],
   "source": [
    "prd = model.predict(vectorizer.transform(\n",
    "    [\n",
    "        'काठमाडौँ — पूर्वअर्थमन्त्रीहरूले आगामी बजेटमार्फत अनावश्यक खर्च कटौती र नयाँ आयोजना नथप्न सुझाएका छन् । आर्थिक वर्ष ०८०/८१ को बजेट तयारीसम्बन्धमा अर्थमन्त्री प्रकाशरण महतले शुक्रबार बोलाएको छलफलमा उनीहरूले व्यावहारिक बजेट तयार गर्न र खर्च कटौतीमा निर्मम बन्नुपर्नेमा जोड दिए ।'\n",
    "    ])\n",
    "            ) \n",
    "nprd = []\n",
    "for k,v in classes.items():\n",
    "  for p in prd:\n",
    "    if v==p:\n",
    "      nprd.append(k)\n",
    "nprd"
   ]
  },
  {
   "cell_type": "code",
   "execution_count": 28,
   "id": "dac01040-ffc6-4955-bfca-3e07184c3ebc",
   "metadata": {},
   "outputs": [],
   "source": [
    "import pickle\n",
    "filename = 'news_pred_model.pickle'\n",
    "pickle.dump(model,open(filename,'wb'))"
   ]
  },
  {
   "cell_type": "code",
   "execution_count": 29,
   "id": "bb5526b5-e7b0-4227-8d3e-c5a537403f6e",
   "metadata": {},
   "outputs": [],
   "source": [
    "filename = 'news_pred_vectorizer.pickle'\n",
    "pickle.dump(vectorizer,open(filename,'wb'))"
   ]
  },
  {
   "cell_type": "code",
   "execution_count": 46,
   "id": "2e7c029c-a33a-4744-94e4-054bf056f46f",
   "metadata": {},
   "outputs": [
    {
     "data": {
      "text/plain": [
       "['entertainment']"
      ]
     },
     "execution_count": 46,
     "metadata": {},
     "output_type": "execute_result"
    }
   ],
   "source": [
    "prd = model.predict(vectorizer.transform(\n",
    "    [\n",
    "       'नागरिकको अभिव्यक्ति स्वतन्त्रता र आलोचनालाई मुखरित गर्ने स्रोतको रूपमा रहेको पत्रकारिता जगतमाथि प्रहार गरिनु लोकतन्त्र माथिकै प्रहार हो,’ विज्ञप्तिमा भनिएको छ, ‘प्रतिशोध साँध्ने उद्देश्यले अभिव्यक्ति स्वतन्त्रतालाई बन्देज गर्ने मनसायबाट हुने राज्य शक्तिको दुरूपयोग किमार्थ स्वीकार्य हुँदैन।'\n",
    "    ])\n",
    "            ) \n",
    "nprd = []\n",
    "for k,v in classes.items():\n",
    "  for p in prd:\n",
    "    if v==p:\n",
    "      nprd.append(k)\n",
    "nprd"
   ]
  },
  {
   "cell_type": "code",
   "execution_count": null,
   "id": "76d6efb6-886b-451d-8844-0d5ed4e14c24",
   "metadata": {},
   "outputs": [],
   "source": []
  }
 ],
 "metadata": {
  "kernelspec": {
   "display_name": "Python 3 (ipykernel)",
   "language": "python",
   "name": "python3"
  },
  "language_info": {
   "codemirror_mode": {
    "name": "ipython",
    "version": 3
   },
   "file_extension": ".py",
   "mimetype": "text/x-python",
   "name": "python",
   "nbconvert_exporter": "python",
   "pygments_lexer": "ipython3",
   "version": "3.11.7"
  }
 },
 "nbformat": 4,
 "nbformat_minor": 5
}
