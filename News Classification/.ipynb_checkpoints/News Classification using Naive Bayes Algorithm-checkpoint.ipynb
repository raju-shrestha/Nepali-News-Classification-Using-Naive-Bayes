{
 "cells": [
  {
   "cell_type": "markdown",
   "id": "ef3d8a9f",
   "metadata": {},
   "source": [
    "### Import necessary libraries"
   ]
  },
  {
   "cell_type": "code",
   "execution_count": 2,
   "id": "21c88dc3",
   "metadata": {
    "tags": []
   },
   "outputs": [],
   "source": [
    "import os\n",
    "import pandas as pd\n",
    "import numpy as np\n",
    "import warnings\n",
    "warnings.filterwarnings(\"ignore\")"
   ]
  },
  {
   "cell_type": "markdown",
   "id": "46ad0e11",
   "metadata": {
    "tags": []
   },
   "source": [
    "### Load CSV files"
   ]
  },
  {
   "cell_type": "code",
   "execution_count": 3,
   "id": "9d2d5ee5",
   "metadata": {
    "scrolled": true,
    "tags": []
   },
   "outputs": [
    {
     "name": "stdout",
     "output_type": "stream",
     "text": [
      "['Agriculture.csv', 'Automobiles.csv', 'Bank.csv', 'Business.csv', 'Economy.csv', 'Education.csv', 'Entertainment.csv', 'Health.csv', 'Health1.csv', 'Health2.csv', 'Politics.csv', 'Politics1.csv', 'Sports.csv', 'Technology.csv', 'Tourism.csv', 'Tourism1.csv', 'World.csv']\n"
     ]
    }
   ],
   "source": [
    "all_filenames = [i for i in os.listdir(\"CSV files\") if  \".csv\" in i and \"combined\" not in i]\n",
    "print(all_filenames)"
   ]
  },
  {
   "cell_type": "markdown",
   "id": "6f80bbba",
   "metadata": {
    "tags": []
   },
   "source": [
    "### Getting the root of CSV data"
   ]
  },
  {
   "cell_type": "code",
   "execution_count": 5,
   "id": "210e1215",
   "metadata": {
    "tags": []
   },
   "outputs": [
    {
     "data": {
      "text/plain": [
       "'CSV files\\\\'"
      ]
     },
     "execution_count": 5,
     "metadata": {},
     "output_type": "execute_result"
    }
   ],
   "source": [
    "root = \"CSV files\\\\\"\n",
    "root"
   ]
  },
  {
   "cell_type": "markdown",
   "id": "9e3a6c45",
   "metadata": {
    "tags": []
   },
   "source": [
    "### Combining the all CSV files into one Dataframe"
   ]
  },
  {
   "cell_type": "code",
   "execution_count": 6,
   "id": "9b60cc56",
   "metadata": {
    "tags": []
   },
   "outputs": [
    {
     "data": {
      "text/html": [
       "<div>\n",
       "<style scoped>\n",
       "    .dataframe tbody tr th:only-of-type {\n",
       "        vertical-align: middle;\n",
       "    }\n",
       "\n",
       "    .dataframe tbody tr th {\n",
       "        vertical-align: top;\n",
       "    }\n",
       "\n",
       "    .dataframe thead th {\n",
       "        text-align: right;\n",
       "    }\n",
       "</style>\n",
       "<table border=\"1\" class=\"dataframe\">\n",
       "  <thead>\n",
       "    <tr style=\"text-align: right;\">\n",
       "      <th></th>\n",
       "      <th>text</th>\n",
       "      <th>category</th>\n",
       "    </tr>\n",
       "  </thead>\n",
       "  <tbody>\n",
       "    <tr>\n",
       "      <th>0</th>\n",
       "      <td>﻿काठमाडौंमा पहिलो पटक स्ट्रबेरीको व्यवसायिक खे...</td>\n",
       "      <td>Agriculture</td>\n",
       "    </tr>\n",
       "    <tr>\n",
       "      <th>1</th>\n",
       "      <td>जिल्लाका किसानले लगाएको अदुवामा गानो कुहिने, ग...</td>\n",
       "      <td>Agriculture</td>\n",
       "    </tr>\n",
       "    <tr>\n",
       "      <th>2</th>\n",
       "      <td>काभ्रेपलाञ्चोकमा कृषकले एसआरआई प्रविधिमा गरेको...</td>\n",
       "      <td>Agriculture</td>\n",
       "    </tr>\n",
       "    <tr>\n",
       "      <th>3</th>\n",
       "      <td>राजधानीमा यतिबेला तरकारीको मूल्य आकासिएको छ। क...</td>\n",
       "      <td>Agriculture</td>\n",
       "    </tr>\n",
       "    <tr>\n",
       "      <th>4</th>\n",
       "      <td>पाल पोल्ट्री तथा लाइभस्टक क्षेत्रको समग्र विका...</td>\n",
       "      <td>Agriculture</td>\n",
       "    </tr>\n",
       "    <tr>\n",
       "      <th>5</th>\n",
       "      <td>माग अनुसारको आपूर्ति नभएपछि तरकारीको मुल्य दोब...</td>\n",
       "      <td>Agriculture</td>\n",
       "    </tr>\n",
       "    <tr>\n",
       "      <th>6</th>\n",
       "      <td>नेपाल र चीनबीचको सम्झौतासँगै शुरु भएको परियोजन...</td>\n",
       "      <td>Agriculture</td>\n",
       "    </tr>\n",
       "    <tr>\n",
       "      <th>7</th>\n",
       "      <td>यस वर्ष अम्बामा देशैभर अम्बामा रोग देखा पर्‍यो...</td>\n",
       "      <td>Agriculture</td>\n",
       "    </tr>\n",
       "    <tr>\n",
       "      <th>8</th>\n",
       "      <td>लैँचीको कारोबार ठप्प भएपछि चाडबाडका लागि खर्च ...</td>\n",
       "      <td>Agriculture</td>\n",
       "    </tr>\n",
       "    <tr>\n",
       "      <th>9</th>\n",
       "      <td>बदलिँदो मौसमका कारण मोरङमा उन्नत जातको धानबाली...</td>\n",
       "      <td>Agriculture</td>\n",
       "    </tr>\n",
       "  </tbody>\n",
       "</table>\n",
       "</div>"
      ],
      "text/plain": [
       "                                                text     category\n",
       "0  ﻿काठमाडौंमा पहिलो पटक स्ट्रबेरीको व्यवसायिक खे...  Agriculture\n",
       "1  जिल्लाका किसानले लगाएको अदुवामा गानो कुहिने, ग...  Agriculture\n",
       "2  काभ्रेपलाञ्चोकमा कृषकले एसआरआई प्रविधिमा गरेको...  Agriculture\n",
       "3  राजधानीमा यतिबेला तरकारीको मूल्य आकासिएको छ। क...  Agriculture\n",
       "4  पाल पोल्ट्री तथा लाइभस्टक क्षेत्रको समग्र विका...  Agriculture\n",
       "5  माग अनुसारको आपूर्ति नभएपछि तरकारीको मुल्य दोब...  Agriculture\n",
       "6  नेपाल र चीनबीचको सम्झौतासँगै शुरु भएको परियोजन...  Agriculture\n",
       "7  यस वर्ष अम्बामा देशैभर अम्बामा रोग देखा पर्‍यो...  Agriculture\n",
       "8  लैँचीको कारोबार ठप्प भएपछि चाडबाडका लागि खर्च ...  Agriculture\n",
       "9  बदलिँदो मौसमका कारण मोरङमा उन्नत जातको धानबाली...  Agriculture"
      ]
     },
     "execution_count": 6,
     "metadata": {},
     "output_type": "execute_result"
    }
   ],
   "source": [
    "combined_csv = pd.concat([pd.read_csv(root+f) for f in all_filenames])\n",
    "combined_csv.head(10)"
   ]
  },
  {
   "cell_type": "markdown",
   "id": "63ed6ff7",
   "metadata": {
    "tags": []
   },
   "source": [
    "### Copying the original dataframe into df"
   ]
  },
  {
   "cell_type": "code",
   "execution_count": 7,
   "id": "17ca982b",
   "metadata": {
    "tags": []
   },
   "outputs": [
    {
     "data": {
      "text/html": [
       "<div>\n",
       "<style scoped>\n",
       "    .dataframe tbody tr th:only-of-type {\n",
       "        vertical-align: middle;\n",
       "    }\n",
       "\n",
       "    .dataframe tbody tr th {\n",
       "        vertical-align: top;\n",
       "    }\n",
       "\n",
       "    .dataframe thead th {\n",
       "        text-align: right;\n",
       "    }\n",
       "</style>\n",
       "<table border=\"1\" class=\"dataframe\">\n",
       "  <thead>\n",
       "    <tr style=\"text-align: right;\">\n",
       "      <th></th>\n",
       "      <th>text</th>\n",
       "      <th>category</th>\n",
       "    </tr>\n",
       "  </thead>\n",
       "  <tbody>\n",
       "    <tr>\n",
       "      <th>0</th>\n",
       "      <td>﻿काठमाडौंमा पहिलो पटक स्ट्रबेरीको व्यवसायिक खे...</td>\n",
       "      <td>Agriculture</td>\n",
       "    </tr>\n",
       "    <tr>\n",
       "      <th>1</th>\n",
       "      <td>जिल्लाका किसानले लगाएको अदुवामा गानो कुहिने, ग...</td>\n",
       "      <td>Agriculture</td>\n",
       "    </tr>\n",
       "    <tr>\n",
       "      <th>2</th>\n",
       "      <td>काभ्रेपलाञ्चोकमा कृषकले एसआरआई प्रविधिमा गरेको...</td>\n",
       "      <td>Agriculture</td>\n",
       "    </tr>\n",
       "    <tr>\n",
       "      <th>3</th>\n",
       "      <td>राजधानीमा यतिबेला तरकारीको मूल्य आकासिएको छ। क...</td>\n",
       "      <td>Agriculture</td>\n",
       "    </tr>\n",
       "    <tr>\n",
       "      <th>4</th>\n",
       "      <td>पाल पोल्ट्री तथा लाइभस्टक क्षेत्रको समग्र विका...</td>\n",
       "      <td>Agriculture</td>\n",
       "    </tr>\n",
       "  </tbody>\n",
       "</table>\n",
       "</div>"
      ],
      "text/plain": [
       "                                                text     category\n",
       "0  ﻿काठमाडौंमा पहिलो पटक स्ट्रबेरीको व्यवसायिक खे...  Agriculture\n",
       "1  जिल्लाका किसानले लगाएको अदुवामा गानो कुहिने, ग...  Agriculture\n",
       "2  काभ्रेपलाञ्चोकमा कृषकले एसआरआई प्रविधिमा गरेको...  Agriculture\n",
       "3  राजधानीमा यतिबेला तरकारीको मूल्य आकासिएको छ। क...  Agriculture\n",
       "4  पाल पोल्ट्री तथा लाइभस्टक क्षेत्रको समग्र विका...  Agriculture"
      ]
     },
     "execution_count": 7,
     "metadata": {},
     "output_type": "execute_result"
    }
   ],
   "source": [
    "df = combined_csv.copy()\n",
    "df.head()"
   ]
  },
  {
   "cell_type": "markdown",
   "id": "46a47d8e",
   "metadata": {
    "tags": []
   },
   "source": [
    "### Count news per category"
   ]
  },
  {
   "cell_type": "code",
   "execution_count": 7,
   "id": "2375d290",
   "metadata": {
    "tags": []
   },
   "outputs": [
    {
     "data": {
      "text/html": [
       "<div>\n",
       "<style scoped>\n",
       "    .dataframe tbody tr th:only-of-type {\n",
       "        vertical-align: middle;\n",
       "    }\n",
       "\n",
       "    .dataframe tbody tr th {\n",
       "        vertical-align: top;\n",
       "    }\n",
       "\n",
       "    .dataframe thead th {\n",
       "        text-align: right;\n",
       "    }\n",
       "</style>\n",
       "<table border=\"1\" class=\"dataframe\">\n",
       "  <thead>\n",
       "    <tr style=\"text-align: right;\">\n",
       "      <th></th>\n",
       "      <th>text</th>\n",
       "    </tr>\n",
       "    <tr>\n",
       "      <th>category</th>\n",
       "      <th></th>\n",
       "    </tr>\n",
       "  </thead>\n",
       "  <tbody>\n",
       "    <tr>\n",
       "      <th>Agriculture</th>\n",
       "      <td>100</td>\n",
       "    </tr>\n",
       "    <tr>\n",
       "      <th>automobiles</th>\n",
       "      <td>95</td>\n",
       "    </tr>\n",
       "    <tr>\n",
       "      <th>bank</th>\n",
       "      <td>417</td>\n",
       "    </tr>\n",
       "    <tr>\n",
       "      <th>business</th>\n",
       "      <td>89</td>\n",
       "    </tr>\n",
       "    <tr>\n",
       "      <th>economy</th>\n",
       "      <td>100</td>\n",
       "    </tr>\n",
       "    <tr>\n",
       "      <th>education</th>\n",
       "      <td>85</td>\n",
       "    </tr>\n",
       "    <tr>\n",
       "      <th>entertainment</th>\n",
       "      <td>72</td>\n",
       "    </tr>\n",
       "    <tr>\n",
       "      <th>health</th>\n",
       "      <td>94</td>\n",
       "    </tr>\n",
       "    <tr>\n",
       "      <th>politic</th>\n",
       "      <td>165</td>\n",
       "    </tr>\n",
       "    <tr>\n",
       "      <th>sports</th>\n",
       "      <td>320</td>\n",
       "    </tr>\n",
       "    <tr>\n",
       "      <th>technology</th>\n",
       "      <td>317</td>\n",
       "    </tr>\n",
       "    <tr>\n",
       "      <th>tourism</th>\n",
       "      <td>158</td>\n",
       "    </tr>\n",
       "    <tr>\n",
       "      <th>world</th>\n",
       "      <td>122</td>\n",
       "    </tr>\n",
       "  </tbody>\n",
       "</table>\n",
       "</div>"
      ],
      "text/plain": [
       "               text\n",
       "category           \n",
       "Agriculture     100\n",
       "automobiles      95\n",
       "bank            417\n",
       "business         89\n",
       "economy         100\n",
       "education        85\n",
       "entertainment    72\n",
       "health           94\n",
       "politic         165\n",
       "sports          320\n",
       "technology      317\n",
       "tourism         158\n",
       "world           122"
      ]
     },
     "execution_count": 7,
     "metadata": {},
     "output_type": "execute_result"
    }
   ],
   "source": [
    "df[[\"text\",\"category\"]].groupby(\"category\").count()"
   ]
  },
  {
   "cell_type": "markdown",
   "id": "729b9dc6",
   "metadata": {
    "tags": []
   },
   "source": [
    "### Bar plot of above frequency of text file per category"
   ]
  },
  {
   "cell_type": "code",
   "execution_count": 8,
   "id": "bdf8fd5c",
   "metadata": {
    "tags": []
   },
   "outputs": [
    {
     "data": {
      "text/plain": [
       "<Axes: xlabel='category'>"
      ]
     },
     "execution_count": 8,
     "metadata": {},
     "output_type": "execute_result"
    },
    {
     "data": {
      "image/png": "[encoded data removed]",
      "text/plain": [
       "<Figure size 640x480 with 1 Axes>"
      ]
     },
     "metadata": {},
     "output_type": "display_data"
    }
   ],
   "source": [
    "df[[\"text\",\"category\"]].groupby(\"category\").count().plot(kind=\"bar\")"
   ]
  },
  {
   "cell_type": "markdown",
   "id": "d636ac5f",
   "metadata": {
    "tags": []
   },
   "source": [
    "### Load Nepali stopwords file"
   ]
  },
  {
   "cell_type": "code",
   "execution_count": 9,
   "id": "14de24a8",
   "metadata": {
    "tags": []
   },
   "outputs": [
    {
     "data": {
      "text/plain": [
       "['अक्सर',\n",
       " 'अगाडि',\n",
       " 'अझै',\n",
       " 'अनुसार',\n",
       " 'अन्तर्गत',\n",
       " 'अन्य',\n",
       " 'अन्यत्र',\n",
       " 'अन्यथा',\n",
       " 'अब',\n",
       " 'अरू',\n",
       " 'अरूलाई',\n",
       " 'अर्को',\n",
       " 'अर्थात',\n",
       " 'अर्थात्',\n",
       " 'अलग',\n",
       " 'आए',\n",
       " 'आजको',\n",
       " 'आठ',\n",
       " 'आत्म',\n",
       " 'आदि',\n",
       " 'आफू',\n",
       " 'आफूलाई',\n",
       " 'आफैलाई',\n",
       " 'आफ्नै',\n",
       " 'आफ्नो',\n",
       " 'आयो',\n",
       " 'उदाहरण',\n",
       " 'उन',\n",
       " 'उनको',\n",
       " 'उनले',\n",
       " 'उप',\n",
       " 'उहाँलाई',\n",
       " 'एउटै',\n",
       " 'एक',\n",
       " 'एकदम',\n",
       " 'औं',\n",
       " 'कतै',\n",
       " 'कम से कम',\n",
       " 'कसरी',\n",
       " 'कसै',\n",
       " 'कसैले',\n",
       " 'कहाँबाट',\n",
       " 'कहिलेकाहीं',\n",
       " 'कहिल्यै',\n",
       " 'कहीं',\n",
       " 'का',\n",
       " 'कि',\n",
       " 'किन',\n",
       " 'किनभने',\n",
       " 'कुनै',\n",
       " 'कुरा',\n",
       " 'कृपया',\n",
       " 'के',\n",
       " 'केहि',\n",
       " 'केही',\n",
       " 'को',\n",
       " 'कोही',\n",
       " 'क्रमशः',\n",
       " 'गए',\n",
       " 'गरि',\n",
       " 'गरी',\n",
       " 'गरेका',\n",
       " 'गरेको',\n",
       " 'गरेर',\n",
       " 'गरौं',\n",
       " 'गर्छ',\n",
       " 'गर्छु',\n",
       " 'गर्दै',\n",
       " 'गर्न',\n",
       " 'गर्नु',\n",
       " 'गर्नुपर्छ',\n",
       " 'गर्ने',\n",
       " 'गर्यौं',\n",
       " 'गैर',\n",
       " 'चाँडै',\n",
       " 'चार',\n",
       " 'चाले',\n",
       " 'चाहनुहुन्छ',\n",
       " 'चाहन्छु',\n",
       " 'चाहिए',\n",
       " 'छ',\n",
       " 'छन्',\n",
       " 'छु',\n",
       " 'छैन',\n",
       " 'छौँ',\n",
       " 'छौं',\n",
       " 'जताततै',\n",
       " 'जब',\n",
       " 'जबकि',\n",
       " 'जसको',\n",
       " 'जसबाट',\n",
       " 'जसमा',\n",
       " 'जसलाई',\n",
       " 'जसले',\n",
       " 'जस्तै',\n",
       " 'जस्तो',\n",
       " 'जस्तोसुकै',\n",
       " 'जहाँ',\n",
       " 'जान',\n",
       " 'जाहिर',\n",
       " 'जुन',\n",
       " 'जे',\n",
       " 'जो',\n",
       " 'ठीक',\n",
       " 'त',\n",
       " 'तत्काल',\n",
       " 'तथा',\n",
       " 'तदनुसार',\n",
       " 'तपाइँको',\n",
       " 'तपाईं',\n",
       " 'तर',\n",
       " 'तल',\n",
       " 'तापनि',\n",
       " 'तिनी',\n",
       " 'तिनीहरू',\n",
       " 'तिनीहरूको',\n",
       " 'तिनीहरूलाई',\n",
       " 'तिनीहरूले',\n",
       " 'तिमी',\n",
       " 'तिर',\n",
       " 'ती',\n",
       " 'तीन',\n",
       " 'तुरुन्तै',\n",
       " 'तेस्रो',\n",
       " 'त्यसकारण',\n",
       " 'त्यसपछि',\n",
       " 'त्यसमा',\n",
       " 'त्यसैले',\n",
       " 'त्यहाँ',\n",
       " 'त्यो',\n",
       " 'थिए',\n",
       " 'थिएन',\n",
       " 'थिएनन्',\n",
       " 'थियो',\n",
       " 'दिए',\n",
       " 'दिनुभएको',\n",
       " 'दिनुहुन्छ',\n",
       " 'दुई',\n",
       " 'देख',\n",
       " 'देखि',\n",
       " 'देखिन्छ',\n",
       " 'देखियो',\n",
       " 'देखे',\n",
       " 'देखेको',\n",
       " 'देखेर',\n",
       " 'देख्न',\n",
       " 'दोश्रो',\n",
       " 'दोस्रो',\n",
       " 'धेरै',\n",
       " 'न',\n",
       " 'नजिकै',\n",
       " 'नत्र',\n",
       " 'नयाँ',\n",
       " 'नि',\n",
       " 'निम्ति',\n",
       " 'निम्न',\n",
       " 'निम्नानुसार',\n",
       " 'निर्दिष्ट',\n",
       " 'नै',\n",
       " 'नौ',\n",
       " 'पक्का',\n",
       " 'पक्कै',\n",
       " 'पछि',\n",
       " 'पछिल्लो',\n",
       " 'पटक',\n",
       " 'पनि',\n",
       " 'पर्छ',\n",
       " 'पर्थ्यो',\n",
       " 'पर्याप्त',\n",
       " 'पहिले',\n",
       " 'पहिलो',\n",
       " 'पहिल्यै',\n",
       " 'पाँच',\n",
       " 'पाँचौं',\n",
       " 'पूर्व',\n",
       " 'प्रति',\n",
       " 'प्रत्येक',\n",
       " 'प्लस',\n",
       " 'फेरि',\n",
       " 'बने',\n",
       " 'बन्द',\n",
       " 'बन्न',\n",
       " 'बरु',\n",
       " 'बाटो',\n",
       " 'बारे',\n",
       " 'बाहिर',\n",
       " 'बाहेक',\n",
       " 'बीच',\n",
       " 'बीचमा',\n",
       " 'भए',\n",
       " 'भएको',\n",
       " 'भन',\n",
       " 'भने',\n",
       " 'भने्',\n",
       " 'भन्छन्',\n",
       " 'भन्छु',\n",
       " 'भन्दा',\n",
       " 'भन्नुभयो',\n",
       " 'भन्ने',\n",
       " 'भर',\n",
       " 'भित्र',\n",
       " 'भित्री',\n",
       " 'म',\n",
       " 'मलाई',\n",
       " 'मा',\n",
       " 'मात्र',\n",
       " 'माथि',\n",
       " 'मुख्य',\n",
       " 'मेरो',\n",
       " 'यति',\n",
       " 'यथोचित',\n",
       " 'यदि',\n",
       " 'यद्यपि',\n",
       " 'यस',\n",
       " 'यसको',\n",
       " 'यसपछि',\n",
       " 'यसबाहेक',\n",
       " 'यसरी',\n",
       " 'यसो',\n",
       " 'यस्तो',\n",
       " 'यहाँ',\n",
       " 'यहाँसम्म',\n",
       " 'या',\n",
       " 'यी',\n",
       " 'यो',\n",
       " 'र',\n",
       " 'रे',\n",
       " 'रही',\n",
       " 'रहेका',\n",
       " 'रहेको',\n",
       " 'राखे',\n",
       " 'राख्छ',\n",
       " 'राम्रो',\n",
       " 'रूप',\n",
       " 'लगभग',\n",
       " 'लाई',\n",
       " 'लागि',\n",
       " 'ले',\n",
       " 'वरिपरि',\n",
       " 'वास्तवमा',\n",
       " 'वाहेक',\n",
       " 'विरुद्ध',\n",
       " 'विशेष',\n",
       " 'शायद',\n",
       " 'सँग',\n",
       " 'सँगै',\n",
       " 'सक्छ',\n",
       " 'सट्टा',\n",
       " 'सधैं',\n",
       " 'सबै',\n",
       " 'सबैलाई',\n",
       " 'समय',\n",
       " 'सम्भव',\n",
       " 'सम्म',\n",
       " 'सही',\n",
       " 'साँच्चै',\n",
       " 'सात',\n",
       " 'साथ',\n",
       " 'साथै',\n",
       " 'सायद',\n",
       " 'सारा',\n",
       " 'सो',\n",
       " 'सोध्न',\n",
       " 'सोही',\n",
       " 'स्पष्ट',\n",
       " 'हरे',\n",
       " 'हरेक',\n",
       " 'हामी',\n",
       " 'हामीलाई',\n",
       " 'हाम्रो',\n",
       " 'हुँ',\n",
       " 'हुन',\n",
       " 'हुने',\n",
       " 'हुनेछ',\n",
       " 'हुन्',\n",
       " 'हुन्छ',\n",
       " 'हो',\n",
       " 'होइन',\n",
       " 'होइनन्',\n",
       " 'होला',\n",
       " 'होस्']"
      ]
     },
     "execution_count": 9,
     "metadata": {},
     "output_type": "execute_result"
    }
   ],
   "source": [
    "stop_file = \"nepali_stopwords.txt\"\n",
    "stop_words = []\n",
    "with open(stop_file, encoding='utf-8') as fp:\n",
    "    lines = fp.readlines()\n",
    "    stop_words =list( map(lambda x:x.strip(), lines))\n",
    "stop_words"
   ]
  },
  {
   "cell_type": "markdown",
   "id": "4773a61c",
   "metadata": {},
   "source": [
    "### Load Nepali punctuation file"
   ]
  },
  {
   "cell_type": "code",
   "execution_count": 10,
   "id": "cdaba0d7",
   "metadata": {
    "tags": []
   },
   "outputs": [
    {
     "data": {
      "text/plain": [
       "[':', '?', '|', '!', '.', ',', '\" \"', \"''\", '( )', '—', '-', \"?'\", '\\\\n']"
      ]
     },
     "execution_count": 10,
     "metadata": {},
     "output_type": "execute_result"
    }
   ],
   "source": [
    "punctuation_file = \"nepali_punctuation.txt\"\n",
    "punctuation_words = []\n",
    "with open(punctuation_file, encoding='utf-8') as fp:\n",
    "    lines = fp.readlines()\n",
    "    punctuation_words =list( map(lambda x:x.strip(), lines))\n",
    "punctuation_words"
   ]
  },
  {
   "cell_type": "markdown",
   "id": "815344bc",
   "metadata": {
    "tags": []
   },
   "source": [
    "### Text pre-processing\n",
    "#### Here we wrote a method called preprocess_text that takes data, stop words, and punctuation words as parameters. Then, we created a list called new_cat to hold it. Also initialized noise as numbers. For each words:\n",
    "   *  ##### If word is not in punctuation or stop words then,\n",
    "   *  ##### Do not take this word if it contains noise characters.\n",
    "   *  ##### Remove parenthesis"
   ]
  },
  {
   "cell_type": "code",
   "execution_count": 11,
   "id": "1fd8cf8e",
   "metadata": {
    "tags": []
   },
   "outputs": [
    {
     "name": "stdout",
     "output_type": "stream",
     "text": [
      "['सगरमाथा चुचुरो पुग् शेर्पा टोली नेतृत्व लेख्']\n"
     ]
    }
   ],
   "source": [
    "# Text Preprocessing\n",
    "from snowballstemmer import NepaliStemmer\n",
    "\n",
    "def preprocess_text(cat_data, stop_words, punctuation_words):\n",
    "    stemmer = NepaliStemmer() # initialize the Nepali stemmer\n",
    "    new_cat = []\n",
    "    noise = \"1,2,3,4,5,6,7,8,9,0,०,१,२,३,४,५,६,७,८,९\".split(\",\")\n",
    "    for row in cat_data:\n",
    "        words = row.strip().split(\" \")      \n",
    "        nwords = \"\"\n",
    "        for word in words:\n",
    "            # apply Nepali stemming to the word\n",
    "            if word not in punctuation_words and word not in stop_words:\n",
    "                word = stemmer.stemWord(word)\n",
    "                is_noise = False\n",
    "                for n in noise:\n",
    "                    if n in word:\n",
    "                        is_noise = True\n",
    "                        break\n",
    "                if not is_noise and len(word) > 1:\n",
    "                    word = word.replace(\"(\",\"\")\n",
    "                    word = word.replace(\")\",\"\")\n",
    "                    nwords += word + \" \"\n",
    "                \n",
    "        new_cat.append(nwords.strip())\n",
    "    return new_cat\n",
    "\n",
    "title_clean = preprocess_text([\"\\nसगरमाथा चुचुरोमा पुग्ने ९ शेर्पा टोलीको नेतृत्व लेख्नु चाहनुहुन्छ गरेको छ ।\"], stop_words, punctuation_words)\n",
    "print(title_clean)"
   ]
  },
  {
   "cell_type": "code",
   "execution_count": 12,
   "id": "380dadb8",
   "metadata": {},
   "outputs": [],
   "source": [
    "ndf = df.copy()\n"
   ]
  },
  {
   "cell_type": "code",
   "execution_count": 13,
   "id": "3e7de2be",
   "metadata": {
    "tags": []
   },
   "outputs": [
    {
     "data": {
      "text/html": [
       "<div>\n",
       "<style scoped>\n",
       "    .dataframe tbody tr th:only-of-type {\n",
       "        vertical-align: middle;\n",
       "    }\n",
       "\n",
       "    .dataframe tbody tr th {\n",
       "        vertical-align: top;\n",
       "    }\n",
       "\n",
       "    .dataframe thead th {\n",
       "        text-align: right;\n",
       "    }\n",
       "</style>\n",
       "<table border=\"1\" class=\"dataframe\">\n",
       "  <thead>\n",
       "    <tr style=\"text-align: right;\">\n",
       "      <th></th>\n",
       "      <th>text</th>\n",
       "      <th>category</th>\n",
       "      <th>Title</th>\n",
       "    </tr>\n",
       "  </thead>\n",
       "  <tbody>\n",
       "    <tr>\n",
       "      <th>0</th>\n",
       "      <td>﻿काठमाडौंमा पहिलो पटक स्ट्रबेरीको व्यवसायिक खे...</td>\n",
       "      <td>Agriculture</td>\n",
       "      <td>अफ्गानिस्थान निर्वाचन अधिकारी गत महिना राष्ट्र...</td>\n",
       "    </tr>\n",
       "    <tr>\n",
       "      <th>1</th>\n",
       "      <td>जिल्लाका किसानले लगाएको अदुवामा गानो कुहिने, ग...</td>\n",
       "      <td>Agriculture</td>\n",
       "      <td>﻿श्रावण काठमाण्डौं अमेरि राष्ट्रपति बाराक ओबाम...</td>\n",
       "    </tr>\n",
       "    <tr>\n",
       "      <th>2</th>\n",
       "      <td>काभ्रेपलाञ्चोकमा कृषकले एसआरआई प्रविधिमा गरेको...</td>\n",
       "      <td>Agriculture</td>\n",
       "      <td>﻿एक वैज्ञानिक भनाइ अनुसार, मानिस शासन वर्षमात्...</td>\n",
       "    </tr>\n",
       "    <tr>\n",
       "      <th>3</th>\n",
       "      <td>राजधानीमा यतिबेला तरकारीको मूल्य आकासिएको छ। क...</td>\n",
       "      <td>Agriculture</td>\n",
       "      <td>﻿अमेरिका संघीय अनुसन्धान ब्युरो एफबीआइ करिब ला...</td>\n",
       "    </tr>\n",
       "    <tr>\n",
       "      <th>4</th>\n",
       "      <td>पाल पोल्ट्री तथा लाइभस्टक क्षेत्रको समग्र विका...</td>\n",
       "      <td>Agriculture</td>\n",
       "      <td>﻿मानव अधिकारसम्बन्धी युरोपेली न्यायालय फ्रान्स...</td>\n",
       "    </tr>\n",
       "    <tr>\n",
       "      <th>...</th>\n",
       "      <td>...</td>\n",
       "      <td>...</td>\n",
       "      <td>...</td>\n",
       "    </tr>\n",
       "    <tr>\n",
       "      <th>117</th>\n",
       "      <td>\\r\\n﻿बिहार । मुकेश पाठक सहित आधा दर्जन कुख्यात...</td>\n",
       "      <td>world</td>\n",
       "      <td>﻿बिहार मुकेश पाठक सहित आधा दर्जन कुख्यात अपराध...</td>\n",
       "    </tr>\n",
       "    <tr>\n",
       "      <th>118</th>\n",
       "      <td>\\r\\n﻿राजविराज, २६ साउन । सप्तरी जिल्लामा पहिलो...</td>\n",
       "      <td>world</td>\n",
       "      <td>﻿राजविराज, साउन सप्तरी जिल्ला आयोजना लाग युवा ...</td>\n",
       "    </tr>\n",
       "    <tr>\n",
       "      <th>119</th>\n",
       "      <td>\\r\\n﻿वीरगञ्ज, ५ असोज । वीरगञ्जमा भव्यताका साथ ...</td>\n",
       "      <td>world</td>\n",
       "      <td>﻿वीरगञ्ज, असोज वीरगञ्ज भव्यता विश्व शान्ति दिव...</td>\n",
       "    </tr>\n",
       "    <tr>\n",
       "      <th>120</th>\n",
       "      <td>\\r\\n﻿वीरगञ्ज, ५ असोज । आत्मा ज्ञान प्रचार संघ ...</td>\n",
       "      <td>world</td>\n",
       "      <td>﻿वीरगञ्ज, असोज आत् ज्ञान प्रचार संघ वीरगञ्ज वि...</td>\n",
       "    </tr>\n",
       "    <tr>\n",
       "      <th>121</th>\n",
       "      <td>\\r\\n﻿सिरहा, ३० कार्तिक । सिरहाको कर्जन्हाका क्...</td>\n",
       "      <td>world</td>\n",
       "      <td>﻿सिरहा, कार्तिक सिरहा कर्जन्हा क्यान्सर विरामी...</td>\n",
       "    </tr>\n",
       "  </tbody>\n",
       "</table>\n",
       "<p>2134 rows × 3 columns</p>\n",
       "</div>"
      ],
      "text/plain": [
       "                                                  text     category  \\\n",
       "0    ﻿काठमाडौंमा पहिलो पटक स्ट्रबेरीको व्यवसायिक खे...  Agriculture   \n",
       "1    जिल्लाका किसानले लगाएको अदुवामा गानो कुहिने, ग...  Agriculture   \n",
       "2    काभ्रेपलाञ्चोकमा कृषकले एसआरआई प्रविधिमा गरेको...  Agriculture   \n",
       "3    राजधानीमा यतिबेला तरकारीको मूल्य आकासिएको छ। क...  Agriculture   \n",
       "4    पाल पोल्ट्री तथा लाइभस्टक क्षेत्रको समग्र विका...  Agriculture   \n",
       "..                                                 ...          ...   \n",
       "117  \\r\\n﻿बिहार । मुकेश पाठक सहित आधा दर्जन कुख्यात...        world   \n",
       "118  \\r\\n﻿राजविराज, २६ साउन । सप्तरी जिल्लामा पहिलो...        world   \n",
       "119  \\r\\n﻿वीरगञ्ज, ५ असोज । वीरगञ्जमा भव्यताका साथ ...        world   \n",
       "120  \\r\\n﻿वीरगञ्ज, ५ असोज । आत्मा ज्ञान प्रचार संघ ...        world   \n",
       "121  \\r\\n﻿सिरहा, ३० कार्तिक । सिरहाको कर्जन्हाका क्...        world   \n",
       "\n",
       "                                                 Title  \n",
       "0    अफ्गानिस्थान निर्वाचन अधिकारी गत महिना राष्ट्र...  \n",
       "1    ﻿श्रावण काठमाण्डौं अमेरि राष्ट्रपति बाराक ओबाम...  \n",
       "2    ﻿एक वैज्ञानिक भनाइ अनुसार, मानिस शासन वर्षमात्...  \n",
       "3    ﻿अमेरिका संघीय अनुसन्धान ब्युरो एफबीआइ करिब ला...  \n",
       "4    ﻿मानव अधिकारसम्बन्धी युरोपेली न्यायालय फ्रान्स...  \n",
       "..                                                 ...  \n",
       "117  ﻿बिहार मुकेश पाठक सहित आधा दर्जन कुख्यात अपराध...  \n",
       "118  ﻿राजविराज, साउन सप्तरी जिल्ला आयोजना लाग युवा ...  \n",
       "119  ﻿वीरगञ्ज, असोज वीरगञ्ज भव्यता विश्व शान्ति दिव...  \n",
       "120  ﻿वीरगञ्ज, असोज आत् ज्ञान प्रचार संघ वीरगञ्ज वि...  \n",
       "121  ﻿सिरहा, कार्तिक सिरहा कर्जन्हा क्यान्सर विरामी...  \n",
       "\n",
       "[2134 rows x 3 columns]"
      ]
     },
     "execution_count": 13,
     "metadata": {},
     "output_type": "execute_result"
    }
   ],
   "source": [
    "# If you want to display the title of the news\n",
    "cat_title = []\n",
    "for i, row in ndf.iterrows():\n",
    "  ndf.loc[i, \"Title\"]= preprocess_text([row.text], stop_words, punctuation_words)[0]\n",
    "\n",
    "ndf"
   ]
  },
  {
   "cell_type": "markdown",
   "id": "51eafbc4",
   "metadata": {},
   "source": [
    "## Splitting data into Train and Test set\n",
    "  ### Here we are splitting the Train data as 80% and Test data as 20%. Train data are used for model fitting and test data are used while doing model prediction. But before that, we     will merge two similar categories into one and also assign a unique label for each class."
   ]
  },
  {
   "cell_type": "code",
   "execution_count": 14,
   "id": "f3c42c49-a5da-4d55-a33b-28eaf65eba6e",
   "metadata": {},
   "outputs": [],
   "source": [
    "from sklearn.utils.multiclass import unique_labels"
   ]
  },
  {
   "cell_type": "code",
   "execution_count": 15,
   "id": "fcfac13a-8416-4f31-b206-09870f923131",
   "metadata": {
    "tags": []
   },
   "outputs": [],
   "source": [
    "data = pd.DataFrame()\n",
    "\n",
    "data[\"text\"]=ndf.text\n",
    "# Preprocess the text data\n",
    "data[\"text\"] = preprocess_text(data[\"text\"], stop_words, punctuation_words)\n",
    "\n",
    "# data[\"category\"]=ndf.category\n",
    "\n",
    "data[\"label\"]=ndf.category\n",
    "data[\"target\"] = data[\"label\"].apply(lambda x: \"news\" if x==\"prabhas-news\" else \"national\" if x==\"province\" else x)\n",
    "classes = {c:i for i,c in enumerate(data.target.unique())}\n",
    "data[\"target\"] = data.target.apply(lambda x: classes[x])"
   ]
  },
  {
   "cell_type": "code",
   "execution_count": 16,
   "id": "445ec925-5059-43cc-ac7f-767aad0856aa",
   "metadata": {
    "tags": []
   },
   "outputs": [],
   "source": [
    "# Split the data into training and testing sets\n",
    "from sklearn.model_selection import train_test_split\n",
    "\n",
    "X_train, X_test, Y_train, Y_test = train_test_split(data[\"text\"], data[\"target\"], test_size=0.2, random_state=1)"
   ]
  },
  {
   "cell_type": "markdown",
   "id": "735ce9f6-d36e-41d1-9a87-6c703061cb92",
   "metadata": {},
   "source": [
    "## Vectorizing the text data"
   ]
  },
  {
   "cell_type": "code",
   "execution_count": 17,
   "id": "9fa70152-3b14-4fad-9a03-34b8a1f0c264",
   "metadata": {
    "tags": []
   },
   "outputs": [
    {
     "name": "stdout",
     "output_type": "stream",
     "text": [
      "  (0, 6436)\t1\n",
      "  (0, 6498)\t1\n",
      "  (0, 6919)\t1\n",
      "  (0, 6930)\t1\n",
      "  (0, 16716)\t1\n",
      "  (0, 16842)\t1\n",
      "  (0, 20705)\t1\n",
      "  (0, 20831)\t1\n",
      "  (0, 25056)\t1\n",
      "  (0, 25084)\t1\n",
      "  (0, 27302)\t1\n",
      "  (0, 27324)\t1\n",
      "  (0, 29295)\t1\n",
      "  (0, 29348)\t1\n",
      "  (0, 34548)\t1\n",
      "  (0, 34589)\t1\n",
      "  (0, 40244)\t1\n",
      "  (0, 40251)\t1\n",
      "  (0, 43148)\t1\n",
      "  (0, 43149)\t1\n",
      "  (0, 52415)\t1\n",
      "  (0, 52565)\t1\n",
      "  (0, 57032)\t1\n",
      "  (0, 61556)\t1\n",
      "  (0, 61838)\t1\n",
      "  :\t:\n",
      "  (1706, 87878)\t1\n",
      "  (1706, 88126)\t1\n",
      "  (1706, 88147)\t4\n",
      "  (1706, 88226)\t1\n",
      "  (1706, 88330)\t1\n",
      "  (1706, 88342)\t2\n",
      "  (1706, 88642)\t2\n",
      "  (1706, 88646)\t1\n",
      "  (1706, 88837)\t1\n",
      "  (1706, 89052)\t2\n",
      "  (1706, 89055)\t1\n",
      "  (1706, 89065)\t1\n",
      "  (1706, 89128)\t1\n",
      "  (1706, 89217)\t1\n",
      "  (1706, 89282)\t1\n",
      "  (1706, 89289)\t1\n",
      "  (1706, 89617)\t3\n",
      "  (1706, 89731)\t1\n",
      "  (1706, 89733)\t2\n",
      "  (1706, 89965)\t1\n",
      "  (1706, 90017)\t1\n",
      "  (1706, 90281)\t1\n",
      "  (1706, 90385)\t1\n",
      "  (1706, 90841)\t1\n",
      "  (1706, 91120)\t1\n"
     ]
    },
    {
     "data": {
      "text/plain": [
       "(1707, 92201)"
      ]
     },
     "execution_count": 17,
     "metadata": {},
     "output_type": "execute_result"
    }
   ],
   "source": [
    "# Convert text data into numerical features using CountVectorizer\n",
    "from sklearn.feature_extraction.text import CountVectorizer\n",
    "\n",
    "vectorizer = CountVectorizer(ngram_range=(1, 2)).fit(X_train)\n",
    "X_train_vectorized = vectorizer.transform(X_train)\n",
    "print(X_train_vectorized)\n",
    "X_train_vectorized.shape"
   ]
  },
  {
   "cell_type": "code",
   "execution_count": 18,
   "id": "51b08905",
   "metadata": {
    "tags": []
   },
   "outputs": [
    {
     "data": {
      "text/plain": [
       "(1707, 92201)"
      ]
     },
     "execution_count": 18,
     "metadata": {},
     "output_type": "execute_result"
    }
   ],
   "source": [
    "# Transform data using TFIDF transformer \n",
    "from sklearn.feature_extraction.text import TfidfTransformer\n",
    "\n",
    "tfidf_transformer=TfidfTransformer()\n",
    "X_train_tfidf=tfidf_transformer.fit_transform(X_train_vectorized)\n",
    "X_train_tfidf.shape"
   ]
  },
  {
   "cell_type": "code",
   "execution_count": 19,
   "id": "24e472c5",
   "metadata": {
    "tags": []
   },
   "outputs": [
    {
     "data": {
      "text/plain": [
       "0.9976567076742824"
      ]
     },
     "execution_count": 19,
     "metadata": {},
     "output_type": "execute_result"
    }
   ],
   "source": [
    "# Train the Naive Bayes Classifier\n",
    "from sklearn.naive_bayes import MultinomialNB\n",
    "\n",
    "model = MultinomialNB(alpha=0.1)\n",
    "model.fit(X_train_vectorized, Y_train)\n",
    "model.score(X_train_vectorized, Y_train)"
   ]
  },
  {
   "cell_type": "code",
   "execution_count": 20,
   "id": "055f342c",
   "metadata": {
    "tags": []
   },
   "outputs": [],
   "source": [
    "# Making predictions\n",
    "x_train_transformed = vectorizer.transform(X_test)\n",
    "y_predicted = model.predict(x_train_transformed)"
   ]
  },
  {
   "cell_type": "markdown",
   "id": "ee3ff1ba",
   "metadata": {},
   "source": [
    "## Accuracy"
   ]
  },
  {
   "cell_type": "code",
   "execution_count": 21,
   "id": "a5949c4e",
   "metadata": {
    "tags": []
   },
   "outputs": [
    {
     "name": "stdout",
     "output_type": "stream",
     "text": [
      "Accuracy: 82.20140515222482 %\n"
     ]
    }
   ],
   "source": [
    "# Calculate accuracy\n",
    "predictions = model.predict(vectorizer.transform(X_test))\n",
    "print(\"Accuracy:\", 100 * sum(predictions == Y_test) / len(predictions), '%')"
   ]
  },
  {
   "cell_type": "markdown",
   "id": "29277541",
   "metadata": {},
   "source": [
    "# Calculating the precison, recall and f1 score of out Test data set"
   ]
  },
  {
   "cell_type": "code",
   "execution_count": 22,
   "id": "751ba60d",
   "metadata": {
    "tags": []
   },
   "outputs": [
    {
     "name": "stdout",
     "output_type": "stream",
     "text": [
      "PRECISION_SCORE : 83.54540206881994 %\n",
      "RECALL_SCORE : 82.20140515222482 %\n",
      "F1_SCORE : 81.88335629763971 %\n"
     ]
    }
   ],
   "source": [
    "# Calculate precision, recall & f1-score\n",
    "from sklearn.metrics import precision_score, recall_score, f1_score\n",
    "\n",
    "PRECISION_SCORE = precision_score(Y_test, y_predicted, average='weighted')\n",
    "RECALL_SCORE = recall_score(Y_test, y_predicted, average='weighted')\n",
    "F1_SCORE = f1_score(Y_test, y_predicted, average='weighted')\n",
    "print(\"PRECISION_SCORE :\" ,PRECISION_SCORE*100, '%')\n",
    "print(\"RECALL_SCORE :\" ,RECALL_SCORE*100, '%')\n",
    "print(\"F1_SCORE :\" ,F1_SCORE*100, '%')"
   ]
  },
  {
   "cell_type": "markdown",
   "id": "d6b2ccfd",
   "metadata": {},
   "source": [
    "# Confusion Matrix"
   ]
  },
  {
   "cell_type": "code",
   "execution_count": 25,
   "id": "ab515af8-a315-475b-a82b-aab740a0fef3",
   "metadata": {},
   "outputs": [
    {
     "data": {
      "image/png": "[encoded data removed]",
      "text/plain": [
       "<Figure size 800x800 with 2 Axes>"
      ]
     },
     "metadata": {},
     "output_type": "display_data"
    }
   ],
   "source": [
    "from sklearn.metrics import confusion_matrix\n",
    "import matplotlib.pyplot as plt\n",
    "\n",
    "plt.figure(figsize=(8, 8))\n",
    "conf_matrix = confusion_matrix(Y_test, y_predicted)\n",
    "plt.imshow(conf_matrix, cmap='Blues', interpolation='nearest')\n",
    "plt.colorbar()\n",
    "tick_marks = np.arange(len(classes))\n",
    "plt.xticks(tick_marks, classes, rotation=60)\n",
    "plt.yticks(tick_marks, classes)\n",
    "plt.title('Confusion Matrix')\n",
    "plt.xlabel('Predicted Label')\n",
    "plt.ylabel('True Label')\n",
    "plt.title('Confusion Matrix')\n",
    "plt.show()"
   ]
  },
  {
   "cell_type": "code",
   "execution_count": null,
   "id": "d4e4bbad-041c-4426-a3cc-1f0ac68ae6f9",
   "metadata": {},
   "outputs": [],
   "source": []
  },
  {
   "cell_type": "markdown",
   "id": "73848a99",
   "metadata": {},
   "source": [
    "# Creating the unique class for different category"
   ]
  },
  {
   "cell_type": "code",
   "execution_count": null,
   "id": "f0979556",
   "metadata": {
    "tags": []
   },
   "outputs": [],
   "source": [
    "model.classes_, classes"
   ]
  },
  {
   "cell_type": "markdown",
   "id": "0ba7c9a0",
   "metadata": {},
   "source": [
    "# Finally we predict our untrained data and try to find the right category"
   ]
  },
  {
   "cell_type": "code",
   "execution_count": null,
   "id": "dac7048a",
   "metadata": {
    "tags": []
   },
   "outputs": [],
   "source": [
    "prd = model.predict(vectorizer.transform(\n",
    "    [\n",
    "        'काठमाडौँ — पूर्वअर्थमन्त्रीहरूले आगामी बजेटमार्फत अनावश्यक खर्च कटौती र नयाँ आयोजना नथप्न सुझाएका छन् । आर्थिक वर्ष ०८०/८१ को बजेट तयारीसम्बन्धमा अर्थमन्त्री प्रकाशरण महतले शुक्रबार बोलाएको छलफलमा उनीहरूले व्यावहारिक बजेट तयार गर्न र खर्च कटौतीमा निर्मम बन्नुपर्नेमा जोड दिए ।'\n",
    "    ])\n",
    "            ) \n",
    "nprd = []\n",
    "for k,v in classes.items():\n",
    "  for p in prd:\n",
    "    if v==p:\n",
    "      nprd.append(k)\n",
    "nprd"
   ]
  },
  {
   "cell_type": "code",
   "execution_count": null,
   "id": "a8e39780",
   "metadata": {
    "tags": []
   },
   "outputs": [],
   "source": [
    "import pickle"
   ]
  },
  {
   "cell_type": "code",
   "execution_count": null,
   "id": "07e73ba3",
   "metadata": {
    "tags": []
   },
   "outputs": [],
   "source": [
    "filename = 'news_pred_model.pickle'\n",
    "pickle.dump(model,open(filename,'wb'))"
   ]
  },
  {
   "cell_type": "code",
   "execution_count": null,
   "id": "12425fcf",
   "metadata": {
    "tags": []
   },
   "outputs": [],
   "source": [
    "filename = 'news_pred_vectorizer.pickle'\n",
    "pickle.dump(vectorizer,open(filename,'wb'))"
   ]
  }
 ],
 "metadata": {
  "kernelspec": {
   "display_name": "Python 3 (ipykernel)",
   "language": "python",
   "name": "python3"
  },
  "language_info": {
   "codemirror_mode": {
    "name": "ipython",
    "version": 3
   },
   "file_extension": ".py",
   "mimetype": "text/x-python",
   "name": "python",
   "nbconvert_exporter": "python",
   "pygments_lexer": "ipython3",
   "version": "3.11.7"
  }
 },
 "nbformat": 4,
 "nbformat_minor": 5
}
